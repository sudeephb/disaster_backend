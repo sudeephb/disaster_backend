{
 "cells": [
  {
   "cell_type": "code",
   "execution_count": 1,
   "metadata": {},
   "outputs": [],
   "source": [
    "import pandas as pd\n",
    "import numpy as np\n",
    "import string\n",
    "import re"
   ]
  },
  {
   "cell_type": "code",
   "execution_count": 2,
   "metadata": {},
   "outputs": [],
   "source": [
    "import spacy\n",
    "nlp1 = spacy.load('en_core_web_sm')\n",
    "nlp2 = spacy.load('en_core_web_sm')"
   ]
  },
  {
   "cell_type": "code",
   "execution_count": 3,
   "metadata": {},
   "outputs": [],
   "source": [
    "import nltk\n",
    "from nltk.corpus import stopwords \n",
    "from nltk.tokenize import word_tokenize "
   ]
  },
  {
   "cell_type": "code",
   "execution_count": 4,
   "metadata": {},
   "outputs": [],
   "source": [
    "def pre_process(newString):\n",
    "    newString = newString.replace(\"-\",\" \")\n",
    "    newString = newString.replace(\"'s\",\"\")\n",
    "    return newString.lower()"
   ]
  },
  {
   "cell_type": "code",
   "execution_count": 11,
   "metadata": {},
   "outputs": [],
   "source": [
    "def rep_entity(s):\n",
    "    doc = s\n",
    "    newString = str(s)\n",
    "    for e in reversed(doc.ents): #reversed to not modify the offsets of other entities when substituting\n",
    "        label = e.label_\n",
    "        if label in [\"ORG\",\"PERSON\",\"EVENT\",\"PRODUCT\", \"GPE\", \"LOC\"]:\n",
    "            continue\n",
    "\n",
    "        start = e.start_char\n",
    "        end = start + len(e.text)\n",
    "        newString = newString[:start] + label + newString[end:]\n",
    "\n",
    "    newString = newString.strip()\n",
    "    newString = newString.translate(str.maketrans(dict.fromkeys(string.punctuation + \"\\n\\t’:\")))\n",
    "    return newString"
   ]
  },
  {
   "cell_type": "code",
   "execution_count": 12,
   "metadata": {},
   "outputs": [],
   "source": [
    "def post_process(s):\n",
    "    doc = s\n",
    "    tokens = [word.lemma_ for word in doc if not word.is_stop]\n",
    "    text = \" \".join(tokens)\n",
    "    return text "
   ]
  },
  {
   "cell_type": "code",
   "execution_count": 13,
   "metadata": {},
   "outputs": [],
   "source": [
    "def test_sent(s):\n",
    "    s = pre_process(s)\n",
    "    s = nlp1(s)\n",
    "    s = rep_entity(s)\n",
    "    s = nlp2(s)\n",
    "    s = post_process(s)\n",
    "    return s"
   ]
  },
  {
   "cell_type": "markdown",
   "metadata": {},
   "source": [
    "### Importing dataset"
   ]
  },
  {
   "cell_type": "code",
   "execution_count": 14,
   "metadata": {},
   "outputs": [
    {
     "output_type": "stream",
     "name": "stdout",
     "text": [
      "<class 'pandas.core.frame.DataFrame'>\nRangeIndex: 38013 entries, 0 to 38012\nData columns (total 2 columns):\n #   Column  Non-Null Count  Dtype \n---  ------  --------------  ----- \n 0   title   38013 non-null  object\n 1   label   38013 non-null  object\ndtypes: object(2)\nmemory usage: 594.1+ KB\n"
     ]
    }
   ],
   "source": [
    "df = pd.read_csv('updated.csv',sep='\\t')\n",
    "df.info()"
   ]
  },
  {
   "cell_type": "code",
   "execution_count": 15,
   "metadata": {},
   "outputs": [
    {
     "output_type": "execute_result",
     "data": {
      "text/plain": [
       "                                                   title          label\n",
       "14655  fema: palm beach county new flood zone maps no...  NON DISASTER_\n",
       "16239  what the latest ebola infection says about odd...      DISASTER_\n",
       "10840  lyme disease researcher says he surprised by r...  NON DISASTER_\n",
       "18102               shanghai issues fifth red heat alert      DISASTER_\n",
       "25466  10 signs you attended an all girls catholic hi...  NON DISASTER_\n",
       "24286           republicans say goodbye to latino voters  NON DISASTER_\n",
       "1686   despite rain, nearly half of new hampshire sti...      DISASTER_\n",
       "31228      watch the republican national convention live  NON DISASTER_\n",
       "29152  what the stylelist staff bought this weekend: ...  NON DISASTER_\n",
       "19422  like an olympian: healthy eating tips from oly...  NON DISASTER_"
      ],
      "text/html": "<div>\n<style scoped>\n    .dataframe tbody tr th:only-of-type {\n        vertical-align: middle;\n    }\n\n    .dataframe tbody tr th {\n        vertical-align: top;\n    }\n\n    .dataframe thead th {\n        text-align: right;\n    }\n</style>\n<table border=\"1\" class=\"dataframe\">\n  <thead>\n    <tr style=\"text-align: right;\">\n      <th></th>\n      <th>title</th>\n      <th>label</th>\n    </tr>\n  </thead>\n  <tbody>\n    <tr>\n      <th>14655</th>\n      <td>fema: palm beach county new flood zone maps no...</td>\n      <td>NON DISASTER_</td>\n    </tr>\n    <tr>\n      <th>16239</th>\n      <td>what the latest ebola infection says about odd...</td>\n      <td>DISASTER_</td>\n    </tr>\n    <tr>\n      <th>10840</th>\n      <td>lyme disease researcher says he surprised by r...</td>\n      <td>NON DISASTER_</td>\n    </tr>\n    <tr>\n      <th>18102</th>\n      <td>shanghai issues fifth red heat alert</td>\n      <td>DISASTER_</td>\n    </tr>\n    <tr>\n      <th>25466</th>\n      <td>10 signs you attended an all girls catholic hi...</td>\n      <td>NON DISASTER_</td>\n    </tr>\n    <tr>\n      <th>24286</th>\n      <td>republicans say goodbye to latino voters</td>\n      <td>NON DISASTER_</td>\n    </tr>\n    <tr>\n      <th>1686</th>\n      <td>despite rain, nearly half of new hampshire sti...</td>\n      <td>DISASTER_</td>\n    </tr>\n    <tr>\n      <th>31228</th>\n      <td>watch the republican national convention live</td>\n      <td>NON DISASTER_</td>\n    </tr>\n    <tr>\n      <th>29152</th>\n      <td>what the stylelist staff bought this weekend: ...</td>\n      <td>NON DISASTER_</td>\n    </tr>\n    <tr>\n      <th>19422</th>\n      <td>like an olympian: healthy eating tips from oly...</td>\n      <td>NON DISASTER_</td>\n    </tr>\n  </tbody>\n</table>\n</div>"
     },
     "metadata": {},
     "execution_count": 15
    }
   ],
   "source": [
    "df[\"title\"] = df.title.apply(pre_process) \n",
    "df.sample(10)"
   ]
  },
  {
   "cell_type": "code",
   "execution_count": 16,
   "metadata": {},
   "outputs": [
    {
     "output_type": "execute_result",
     "data": {
      "text/plain": [
       "                                               title      label\n",
       "0  (pilot, ,, skydivers, survive, fiery, crash, i...  DISASTER_\n",
       "1  (officials, :, pilot, dead, in, small, plane, ...  DISASTER_\n",
       "2  (brother, identifies, rye, man, as, pilot, kil...  DISASTER_\n",
       "3  (brother, identifies, rye, man, as, pilot, kil...  DISASTER_\n",
       "4  (chapecoense, team, plane, crash, kills, most,...  DISASTER_"
      ],
      "text/html": "<div>\n<style scoped>\n    .dataframe tbody tr th:only-of-type {\n        vertical-align: middle;\n    }\n\n    .dataframe tbody tr th {\n        vertical-align: top;\n    }\n\n    .dataframe thead th {\n        text-align: right;\n    }\n</style>\n<table border=\"1\" class=\"dataframe\">\n  <thead>\n    <tr style=\"text-align: right;\">\n      <th></th>\n      <th>title</th>\n      <th>label</th>\n    </tr>\n  </thead>\n  <tbody>\n    <tr>\n      <th>0</th>\n      <td>(pilot, ,, skydivers, survive, fiery, crash, i...</td>\n      <td>DISASTER_</td>\n    </tr>\n    <tr>\n      <th>1</th>\n      <td>(officials, :, pilot, dead, in, small, plane, ...</td>\n      <td>DISASTER_</td>\n    </tr>\n    <tr>\n      <th>2</th>\n      <td>(brother, identifies, rye, man, as, pilot, kil...</td>\n      <td>DISASTER_</td>\n    </tr>\n    <tr>\n      <th>3</th>\n      <td>(brother, identifies, rye, man, as, pilot, kil...</td>\n      <td>DISASTER_</td>\n    </tr>\n    <tr>\n      <th>4</th>\n      <td>(chapecoense, team, plane, crash, kills, most,...</td>\n      <td>DISASTER_</td>\n    </tr>\n  </tbody>\n</table>\n</div>"
     },
     "metadata": {},
     "execution_count": 16
    }
   ],
   "source": [
    "df[\"title\"] = list(nlp1.pipe(df.title.values))\n",
    "df.head()"
   ]
  },
  {
   "cell_type": "code",
   "execution_count": 17,
   "metadata": {},
   "outputs": [
    {
     "output_type": "execute_result",
     "data": {
      "text/plain": [
       "                                               title      label\n",
       "0  pilot skydivers survive fiery crash in phoenix...  DISASTER_\n",
       "1  officials pilot dead in small plane crash in a...  DISASTER_\n",
       "2  brother identifies rye man as pilot killed in ...  DISASTER_\n",
       "3  brother identifies rye man as pilot killed in ...  DISASTER_\n",
       "4  chapecoense team plane crash kills most soccer...  DISASTER_"
      ],
      "text/html": "<div>\n<style scoped>\n    .dataframe tbody tr th:only-of-type {\n        vertical-align: middle;\n    }\n\n    .dataframe tbody tr th {\n        vertical-align: top;\n    }\n\n    .dataframe thead th {\n        text-align: right;\n    }\n</style>\n<table border=\"1\" class=\"dataframe\">\n  <thead>\n    <tr style=\"text-align: right;\">\n      <th></th>\n      <th>title</th>\n      <th>label</th>\n    </tr>\n  </thead>\n  <tbody>\n    <tr>\n      <th>0</th>\n      <td>pilot skydivers survive fiery crash in phoenix...</td>\n      <td>DISASTER_</td>\n    </tr>\n    <tr>\n      <th>1</th>\n      <td>officials pilot dead in small plane crash in a...</td>\n      <td>DISASTER_</td>\n    </tr>\n    <tr>\n      <th>2</th>\n      <td>brother identifies rye man as pilot killed in ...</td>\n      <td>DISASTER_</td>\n    </tr>\n    <tr>\n      <th>3</th>\n      <td>brother identifies rye man as pilot killed in ...</td>\n      <td>DISASTER_</td>\n    </tr>\n    <tr>\n      <th>4</th>\n      <td>chapecoense team plane crash kills most soccer...</td>\n      <td>DISASTER_</td>\n    </tr>\n  </tbody>\n</table>\n</div>"
     },
     "metadata": {},
     "execution_count": 17
    }
   ],
   "source": [
    "df[\"title\"] = df.title.apply(rep_entity)\n",
    "df.head()"
   ]
  },
  {
   "cell_type": "code",
   "execution_count": 18,
   "metadata": {},
   "outputs": [
    {
     "output_type": "execute_result",
     "data": {
      "text/plain": [
       "                                               title      label\n",
       "0  (pilot, skydivers, survive, fiery, crash, in, ...  DISASTER_\n",
       "1  (officials, pilot, dead, in, small, plane, cra...  DISASTER_\n",
       "2  (brother, identifies, rye, man, as, pilot, kil...  DISASTER_\n",
       "3  (brother, identifies, rye, man, as, pilot, kil...  DISASTER_\n",
       "4  (chapecoense, team, plane, crash, kills, most,...  DISASTER_"
      ],
      "text/html": "<div>\n<style scoped>\n    .dataframe tbody tr th:only-of-type {\n        vertical-align: middle;\n    }\n\n    .dataframe tbody tr th {\n        vertical-align: top;\n    }\n\n    .dataframe thead th {\n        text-align: right;\n    }\n</style>\n<table border=\"1\" class=\"dataframe\">\n  <thead>\n    <tr style=\"text-align: right;\">\n      <th></th>\n      <th>title</th>\n      <th>label</th>\n    </tr>\n  </thead>\n  <tbody>\n    <tr>\n      <th>0</th>\n      <td>(pilot, skydivers, survive, fiery, crash, in, ...</td>\n      <td>DISASTER_</td>\n    </tr>\n    <tr>\n      <th>1</th>\n      <td>(officials, pilot, dead, in, small, plane, cra...</td>\n      <td>DISASTER_</td>\n    </tr>\n    <tr>\n      <th>2</th>\n      <td>(brother, identifies, rye, man, as, pilot, kil...</td>\n      <td>DISASTER_</td>\n    </tr>\n    <tr>\n      <th>3</th>\n      <td>(brother, identifies, rye, man, as, pilot, kil...</td>\n      <td>DISASTER_</td>\n    </tr>\n    <tr>\n      <th>4</th>\n      <td>(chapecoense, team, plane, crash, kills, most,...</td>\n      <td>DISASTER_</td>\n    </tr>\n  </tbody>\n</table>\n</div>"
     },
     "metadata": {},
     "execution_count": 18
    }
   ],
   "source": [
    "df[\"title\"] = list(nlp2.pipe(df.title.values))\n",
    "df.head()"
   ]
  },
  {
   "cell_type": "code",
   "execution_count": 19,
   "metadata": {},
   "outputs": [
    {
     "output_type": "execute_result",
     "data": {
      "text/plain": [
       "                                               title      label\n",
       "0  pilot skydiver survive fiery crash phoenix suburb  DISASTER_\n",
       "1  official pilot dead small plane crash atlanta ...  DISASTER_\n",
       "2  brother identify rye man pilot kill new york p...  DISASTER_\n",
       "3  brother identify rye man pilot kill new york p...  DISASTER_\n",
       "4  chapecoense team plane crash kill soccer playe...  DISASTER_\n",
       "5    official cardinal kill plane crash north denver  DISASTER_\n",
       "6                      russia mourn plane crash dead  DISASTER_\n",
       "7  CARDINAL injure small plane crash isle wight a...  DISASTER_\n",
       "8  pilot error contribute deadly papua new guinea...  DISASTER_\n",
       "9    airline warn fly sinai wake russian plane crash  DISASTER_"
      ],
      "text/html": "<div>\n<style scoped>\n    .dataframe tbody tr th:only-of-type {\n        vertical-align: middle;\n    }\n\n    .dataframe tbody tr th {\n        vertical-align: top;\n    }\n\n    .dataframe thead th {\n        text-align: right;\n    }\n</style>\n<table border=\"1\" class=\"dataframe\">\n  <thead>\n    <tr style=\"text-align: right;\">\n      <th></th>\n      <th>title</th>\n      <th>label</th>\n    </tr>\n  </thead>\n  <tbody>\n    <tr>\n      <th>0</th>\n      <td>pilot skydiver survive fiery crash phoenix suburb</td>\n      <td>DISASTER_</td>\n    </tr>\n    <tr>\n      <th>1</th>\n      <td>official pilot dead small plane crash atlanta ...</td>\n      <td>DISASTER_</td>\n    </tr>\n    <tr>\n      <th>2</th>\n      <td>brother identify rye man pilot kill new york p...</td>\n      <td>DISASTER_</td>\n    </tr>\n    <tr>\n      <th>3</th>\n      <td>brother identify rye man pilot kill new york p...</td>\n      <td>DISASTER_</td>\n    </tr>\n    <tr>\n      <th>4</th>\n      <td>chapecoense team plane crash kill soccer playe...</td>\n      <td>DISASTER_</td>\n    </tr>\n    <tr>\n      <th>5</th>\n      <td>official cardinal kill plane crash north denver</td>\n      <td>DISASTER_</td>\n    </tr>\n    <tr>\n      <th>6</th>\n      <td>russia mourn plane crash dead</td>\n      <td>DISASTER_</td>\n    </tr>\n    <tr>\n      <th>7</th>\n      <td>CARDINAL injure small plane crash isle wight a...</td>\n      <td>DISASTER_</td>\n    </tr>\n    <tr>\n      <th>8</th>\n      <td>pilot error contribute deadly papua new guinea...</td>\n      <td>DISASTER_</td>\n    </tr>\n    <tr>\n      <th>9</th>\n      <td>airline warn fly sinai wake russian plane crash</td>\n      <td>DISASTER_</td>\n    </tr>\n  </tbody>\n</table>\n</div>"
     },
     "metadata": {},
     "execution_count": 19
    }
   ],
   "source": [
    "df[\"title\"] = df.title.apply(post_process)\n",
    "df.head(10)"
   ]
  },
  {
   "cell_type": "code",
   "execution_count": 22,
   "metadata": {},
   "outputs": [],
   "source": [
    "df = df.drop_duplicates()"
   ]
  },
  {
   "cell_type": "code",
   "execution_count": 23,
   "metadata": {},
   "outputs": [],
   "source": [
    "df.to_csv(\"data_processed.csv\",index=False)"
   ]
  },
  {
   "cell_type": "code",
   "execution_count": 2,
   "metadata": {},
   "outputs": [
    {
     "output_type": "execute_result",
     "data": {
      "text/plain": [
       "                                               title      label\n",
       "0  pilot skydiver survive fiery crash phoenix suburb  DISASTER_\n",
       "1  official pilot dead small plane crash atlanta ...  DISASTER_\n",
       "2  brother identify rye man pilot kill new york p...  DISASTER_\n",
       "3  chapecoense team plane crash kill soccer playe...  DISASTER_\n",
       "4    official cardinal kill plane crash north denver  DISASTER_\n",
       "5                      russia mourn plane crash dead  DISASTER_\n",
       "6  CARDINAL injure small plane crash isle wight a...  DISASTER_\n",
       "7  pilot error contribute deadly papua new guinea...  DISASTER_\n",
       "8    airline warn fly sinai wake russian plane crash  DISASTER_\n",
       "9  lech kaczynski wife maria exhume victim DATE p...  DISASTER_"
      ],
      "text/html": "<div>\n<style scoped>\n    .dataframe tbody tr th:only-of-type {\n        vertical-align: middle;\n    }\n\n    .dataframe tbody tr th {\n        vertical-align: top;\n    }\n\n    .dataframe thead th {\n        text-align: right;\n    }\n</style>\n<table border=\"1\" class=\"dataframe\">\n  <thead>\n    <tr style=\"text-align: right;\">\n      <th></th>\n      <th>title</th>\n      <th>label</th>\n    </tr>\n  </thead>\n  <tbody>\n    <tr>\n      <th>0</th>\n      <td>pilot skydiver survive fiery crash phoenix suburb</td>\n      <td>DISASTER_</td>\n    </tr>\n    <tr>\n      <th>1</th>\n      <td>official pilot dead small plane crash atlanta ...</td>\n      <td>DISASTER_</td>\n    </tr>\n    <tr>\n      <th>2</th>\n      <td>brother identify rye man pilot kill new york p...</td>\n      <td>DISASTER_</td>\n    </tr>\n    <tr>\n      <th>3</th>\n      <td>chapecoense team plane crash kill soccer playe...</td>\n      <td>DISASTER_</td>\n    </tr>\n    <tr>\n      <th>4</th>\n      <td>official cardinal kill plane crash north denver</td>\n      <td>DISASTER_</td>\n    </tr>\n    <tr>\n      <th>5</th>\n      <td>russia mourn plane crash dead</td>\n      <td>DISASTER_</td>\n    </tr>\n    <tr>\n      <th>6</th>\n      <td>CARDINAL injure small plane crash isle wight a...</td>\n      <td>DISASTER_</td>\n    </tr>\n    <tr>\n      <th>7</th>\n      <td>pilot error contribute deadly papua new guinea...</td>\n      <td>DISASTER_</td>\n    </tr>\n    <tr>\n      <th>8</th>\n      <td>airline warn fly sinai wake russian plane crash</td>\n      <td>DISASTER_</td>\n    </tr>\n    <tr>\n      <th>9</th>\n      <td>lech kaczynski wife maria exhume victim DATE p...</td>\n      <td>DISASTER_</td>\n    </tr>\n  </tbody>\n</table>\n</div>"
     },
     "metadata": {},
     "execution_count": 2
    }
   ],
   "source": [
    "df = pd.read_csv(\"data_processed.csv\",engine='python')\n",
    "df = df.dropna()\n",
    "df.head(10)"
   ]
  },
  {
   "cell_type": "code",
   "execution_count": 106,
   "metadata": {},
   "outputs": [],
   "source": [
    "# from sklearn.feature_extraction.text import TfidfVectorizer\n",
    "# tv = TfidfVectorizer()\n",
    "# X = tv.fit_transform(df.title).toarray()\n",
    "# y = df.label.values"
   ]
  },
  {
   "cell_type": "code",
   "execution_count": 3,
   "metadata": {},
   "outputs": [],
   "source": [
    "#BOW model\n",
    "from sklearn.feature_extraction.text import CountVectorizer\n",
    "# Creating sparse matrix of top 2500 tokens\n",
    "cv = CountVectorizer(max_features = 250)\n",
    "X = cv.fit_transform(df.title).toarray()\n",
    "y = df.label.values"
   ]
  },
  {
   "cell_type": "code",
   "execution_count": 4,
   "metadata": {},
   "outputs": [],
   "source": [
    "import pickle\n",
    "\n",
    "with open(\"preprocessor.pkl\",\"wb\") as model:\n",
    "    pickle.dump(cv,model)"
   ]
  },
  {
   "cell_type": "code",
   "execution_count": 26,
   "metadata": {},
   "outputs": [
    {
     "output_type": "execute_result",
     "data": {
      "text/plain": [
       "(37202, 250)"
      ]
     },
     "metadata": {},
     "execution_count": 26
    }
   ],
   "source": [
    "X.shape"
   ]
  },
  {
   "cell_type": "code",
   "execution_count": 27,
   "metadata": {},
   "outputs": [],
   "source": [
    "# Splitting the dataset into train and test\n",
    "from sklearn.model_selection import train_test_split\n",
    "X_train, X_test, y_train, y_test = train_test_split(X, y, test_size = 0.20, random_state = 0)"
   ]
  },
  {
   "cell_type": "code",
   "execution_count": 26,
   "metadata": {},
   "outputs": [
    {
     "data": {
      "text/plain": [
       "GaussianNB()"
      ]
     },
     "execution_count": 26,
     "metadata": {},
     "output_type": "execute_result"
    }
   ],
   "source": [
    "## Training the Naive Bayes model on the Training set\n",
    "from sklearn.naive_bayes import GaussianNB\n",
    "classifier = GaussianNB()\n",
    "classifier.fit(X_train, y_train)"
   ]
  },
  {
   "cell_type": "code",
   "execution_count": 28,
   "metadata": {},
   "outputs": [],
   "source": [
    "from sklearn.svm import SVC\n",
    "SVC_classifier = SVC(kernel = 'rbf')\n",
    "SVC_classifier.fit(X_train, y_train)\n",
    "y_pred_SVC = SVC_classifier.predict(X_test)"
   ]
  },
  {
   "cell_type": "code",
   "execution_count": 29,
   "metadata": {},
   "outputs": [
    {
     "output_type": "display_data",
     "data": {
      "text/plain": "<Figure size 432x288 with 1 Axes>",
      "image/svg+xml": "<?xml version=\"1.0\" encoding=\"utf-8\" standalone=\"no\"?>\n<!DOCTYPE svg PUBLIC \"-//W3C//DTD SVG 1.1//EN\"\n  \"http://www.w3.org/Graphics/SVG/1.1/DTD/svg11.dtd\">\n<!-- Created with matplotlib (https://matplotlib.org/) -->\n<svg height=\"280.383281pt\" version=\"1.1\" viewBox=\"0 0 386.059375 280.383281\" width=\"386.059375pt\" xmlns=\"http://www.w3.org/2000/svg\" xmlns:xlink=\"http://www.w3.org/1999/xlink\">\n <metadata>\n  <rdf:RDF xmlns:cc=\"http://creativecommons.org/ns#\" xmlns:dc=\"http://purl.org/dc/elements/1.1/\" xmlns:rdf=\"http://www.w3.org/1999/02/22-rdf-syntax-ns#\">\n   <cc:Work>\n    <dc:type rdf:resource=\"http://purl.org/dc/dcmitype/StillImage\"/>\n    <dc:date>2021-03-04T00:37:25.872815</dc:date>\n    <dc:format>image/svg+xml</dc:format>\n    <dc:creator>\n     <cc:Agent>\n      <dc:title>Matplotlib v3.3.4, https://matplotlib.org/</dc:title>\n     </cc:Agent>\n    </dc:creator>\n   </cc:Work>\n  </rdf:RDF>\n </metadata>\n <defs>\n  <style type=\"text/css\">*{stroke-linecap:butt;stroke-linejoin:round;}</style>\n </defs>\n <g id=\"figure_1\">\n  <g id=\"patch_1\">\n   <path d=\"M 0 280.383281 \nL 386.059375 280.383281 \nL 386.059375 0 \nL 0 0 \nz\n\" style=\"fill:none;\"/>\n  </g>\n  <g id=\"axes_1\">\n   <g id=\"patch_2\">\n    <path d=\"M 44.059375 242.548906 \nL 378.859375 242.548906 \nL 378.859375 25.108906 \nL 44.059375 25.108906 \nz\n\" style=\"fill:#ffffff;\"/>\n   </g>\n   <g id=\"matplotlib.axis_1\">\n    <g id=\"xtick_1\">\n     <g id=\"line2d_1\">\n      <defs>\n       <path d=\"M 0 0 \nL 0 3.5 \n\" id=\"m0fcedbce29\" style=\"stroke:#000000;stroke-width:0.8;\"/>\n      </defs>\n      <g>\n       <use style=\"stroke:#000000;stroke-width:0.8;\" x=\"59.277557\" xlink:href=\"#m0fcedbce29\" y=\"242.548906\"/>\n      </g>\n     </g>\n     <g id=\"text_1\">\n      <!-- 0.0 -->\n      <g transform=\"translate(51.325994 257.147344)scale(0.1 -0.1)\">\n       <defs>\n        <path d=\"M 31.78125 66.40625 \nQ 24.171875 66.40625 20.328125 58.90625 \nQ 16.5 51.421875 16.5 36.375 \nQ 16.5 21.390625 20.328125 13.890625 \nQ 24.171875 6.390625 31.78125 6.390625 \nQ 39.453125 6.390625 43.28125 13.890625 \nQ 47.125 21.390625 47.125 36.375 \nQ 47.125 51.421875 43.28125 58.90625 \nQ 39.453125 66.40625 31.78125 66.40625 \nz\nM 31.78125 74.21875 \nQ 44.046875 74.21875 50.515625 64.515625 \nQ 56.984375 54.828125 56.984375 36.375 \nQ 56.984375 17.96875 50.515625 8.265625 \nQ 44.046875 -1.421875 31.78125 -1.421875 \nQ 19.53125 -1.421875 13.0625 8.265625 \nQ 6.59375 17.96875 6.59375 36.375 \nQ 6.59375 54.828125 13.0625 64.515625 \nQ 19.53125 74.21875 31.78125 74.21875 \nz\n\" id=\"DejaVuSans-48\"/>\n        <path d=\"M 10.6875 12.40625 \nL 21 12.40625 \nL 21 0 \nL 10.6875 0 \nz\n\" id=\"DejaVuSans-46\"/>\n       </defs>\n       <use xlink:href=\"#DejaVuSans-48\"/>\n       <use x=\"63.623047\" xlink:href=\"#DejaVuSans-46\"/>\n       <use x=\"95.410156\" xlink:href=\"#DejaVuSans-48\"/>\n      </g>\n     </g>\n    </g>\n    <g id=\"xtick_2\">\n     <g id=\"line2d_2\">\n      <g>\n       <use style=\"stroke:#000000;stroke-width:0.8;\" x=\"120.150284\" xlink:href=\"#m0fcedbce29\" y=\"242.548906\"/>\n      </g>\n     </g>\n     <g id=\"text_2\">\n      <!-- 0.2 -->\n      <g transform=\"translate(112.198722 257.147344)scale(0.1 -0.1)\">\n       <defs>\n        <path d=\"M 19.1875 8.296875 \nL 53.609375 8.296875 \nL 53.609375 0 \nL 7.328125 0 \nL 7.328125 8.296875 \nQ 12.9375 14.109375 22.625 23.890625 \nQ 32.328125 33.6875 34.8125 36.53125 \nQ 39.546875 41.84375 41.421875 45.53125 \nQ 43.3125 49.21875 43.3125 52.78125 \nQ 43.3125 58.59375 39.234375 62.25 \nQ 35.15625 65.921875 28.609375 65.921875 \nQ 23.96875 65.921875 18.8125 64.3125 \nQ 13.671875 62.703125 7.8125 59.421875 \nL 7.8125 69.390625 \nQ 13.765625 71.78125 18.9375 73 \nQ 24.125 74.21875 28.421875 74.21875 \nQ 39.75 74.21875 46.484375 68.546875 \nQ 53.21875 62.890625 53.21875 53.421875 \nQ 53.21875 48.921875 51.53125 44.890625 \nQ 49.859375 40.875 45.40625 35.40625 \nQ 44.1875 33.984375 37.640625 27.21875 \nQ 31.109375 20.453125 19.1875 8.296875 \nz\n\" id=\"DejaVuSans-50\"/>\n       </defs>\n       <use xlink:href=\"#DejaVuSans-48\"/>\n       <use x=\"63.623047\" xlink:href=\"#DejaVuSans-46\"/>\n       <use x=\"95.410156\" xlink:href=\"#DejaVuSans-50\"/>\n      </g>\n     </g>\n    </g>\n    <g id=\"xtick_3\">\n     <g id=\"line2d_3\">\n      <g>\n       <use style=\"stroke:#000000;stroke-width:0.8;\" x=\"181.023011\" xlink:href=\"#m0fcedbce29\" y=\"242.548906\"/>\n      </g>\n     </g>\n     <g id=\"text_3\">\n      <!-- 0.4 -->\n      <g transform=\"translate(173.071449 257.147344)scale(0.1 -0.1)\">\n       <defs>\n        <path d=\"M 37.796875 64.3125 \nL 12.890625 25.390625 \nL 37.796875 25.390625 \nz\nM 35.203125 72.90625 \nL 47.609375 72.90625 \nL 47.609375 25.390625 \nL 58.015625 25.390625 \nL 58.015625 17.1875 \nL 47.609375 17.1875 \nL 47.609375 0 \nL 37.796875 0 \nL 37.796875 17.1875 \nL 4.890625 17.1875 \nL 4.890625 26.703125 \nz\n\" id=\"DejaVuSans-52\"/>\n       </defs>\n       <use xlink:href=\"#DejaVuSans-48\"/>\n       <use x=\"63.623047\" xlink:href=\"#DejaVuSans-46\"/>\n       <use x=\"95.410156\" xlink:href=\"#DejaVuSans-52\"/>\n      </g>\n     </g>\n    </g>\n    <g id=\"xtick_4\">\n     <g id=\"line2d_4\">\n      <g>\n       <use style=\"stroke:#000000;stroke-width:0.8;\" x=\"241.895739\" xlink:href=\"#m0fcedbce29\" y=\"242.548906\"/>\n      </g>\n     </g>\n     <g id=\"text_4\">\n      <!-- 0.6 -->\n      <g transform=\"translate(233.944176 257.147344)scale(0.1 -0.1)\">\n       <defs>\n        <path d=\"M 33.015625 40.375 \nQ 26.375 40.375 22.484375 35.828125 \nQ 18.609375 31.296875 18.609375 23.390625 \nQ 18.609375 15.53125 22.484375 10.953125 \nQ 26.375 6.390625 33.015625 6.390625 \nQ 39.65625 6.390625 43.53125 10.953125 \nQ 47.40625 15.53125 47.40625 23.390625 \nQ 47.40625 31.296875 43.53125 35.828125 \nQ 39.65625 40.375 33.015625 40.375 \nz\nM 52.59375 71.296875 \nL 52.59375 62.3125 \nQ 48.875 64.0625 45.09375 64.984375 \nQ 41.3125 65.921875 37.59375 65.921875 \nQ 27.828125 65.921875 22.671875 59.328125 \nQ 17.53125 52.734375 16.796875 39.40625 \nQ 19.671875 43.65625 24.015625 45.921875 \nQ 28.375 48.1875 33.59375 48.1875 \nQ 44.578125 48.1875 50.953125 41.515625 \nQ 57.328125 34.859375 57.328125 23.390625 \nQ 57.328125 12.15625 50.6875 5.359375 \nQ 44.046875 -1.421875 33.015625 -1.421875 \nQ 20.359375 -1.421875 13.671875 8.265625 \nQ 6.984375 17.96875 6.984375 36.375 \nQ 6.984375 53.65625 15.1875 63.9375 \nQ 23.390625 74.21875 37.203125 74.21875 \nQ 40.921875 74.21875 44.703125 73.484375 \nQ 48.484375 72.75 52.59375 71.296875 \nz\n\" id=\"DejaVuSans-54\"/>\n       </defs>\n       <use xlink:href=\"#DejaVuSans-48\"/>\n       <use x=\"63.623047\" xlink:href=\"#DejaVuSans-46\"/>\n       <use x=\"95.410156\" xlink:href=\"#DejaVuSans-54\"/>\n      </g>\n     </g>\n    </g>\n    <g id=\"xtick_5\">\n     <g id=\"line2d_5\">\n      <g>\n       <use style=\"stroke:#000000;stroke-width:0.8;\" x=\"302.768466\" xlink:href=\"#m0fcedbce29\" y=\"242.548906\"/>\n      </g>\n     </g>\n     <g id=\"text_5\">\n      <!-- 0.8 -->\n      <g transform=\"translate(294.816903 257.147344)scale(0.1 -0.1)\">\n       <defs>\n        <path d=\"M 31.78125 34.625 \nQ 24.75 34.625 20.71875 30.859375 \nQ 16.703125 27.09375 16.703125 20.515625 \nQ 16.703125 13.921875 20.71875 10.15625 \nQ 24.75 6.390625 31.78125 6.390625 \nQ 38.8125 6.390625 42.859375 10.171875 \nQ 46.921875 13.96875 46.921875 20.515625 \nQ 46.921875 27.09375 42.890625 30.859375 \nQ 38.875 34.625 31.78125 34.625 \nz\nM 21.921875 38.8125 \nQ 15.578125 40.375 12.03125 44.71875 \nQ 8.5 49.078125 8.5 55.328125 \nQ 8.5 64.0625 14.71875 69.140625 \nQ 20.953125 74.21875 31.78125 74.21875 \nQ 42.671875 74.21875 48.875 69.140625 \nQ 55.078125 64.0625 55.078125 55.328125 \nQ 55.078125 49.078125 51.53125 44.71875 \nQ 48 40.375 41.703125 38.8125 \nQ 48.828125 37.15625 52.796875 32.3125 \nQ 56.78125 27.484375 56.78125 20.515625 \nQ 56.78125 9.90625 50.3125 4.234375 \nQ 43.84375 -1.421875 31.78125 -1.421875 \nQ 19.734375 -1.421875 13.25 4.234375 \nQ 6.78125 9.90625 6.78125 20.515625 \nQ 6.78125 27.484375 10.78125 32.3125 \nQ 14.796875 37.15625 21.921875 38.8125 \nz\nM 18.3125 54.390625 \nQ 18.3125 48.734375 21.84375 45.5625 \nQ 25.390625 42.390625 31.78125 42.390625 \nQ 38.140625 42.390625 41.71875 45.5625 \nQ 45.3125 48.734375 45.3125 54.390625 \nQ 45.3125 60.0625 41.71875 63.234375 \nQ 38.140625 66.40625 31.78125 66.40625 \nQ 25.390625 66.40625 21.84375 63.234375 \nQ 18.3125 60.0625 18.3125 54.390625 \nz\n\" id=\"DejaVuSans-56\"/>\n       </defs>\n       <use xlink:href=\"#DejaVuSans-48\"/>\n       <use x=\"63.623047\" xlink:href=\"#DejaVuSans-46\"/>\n       <use x=\"95.410156\" xlink:href=\"#DejaVuSans-56\"/>\n      </g>\n     </g>\n    </g>\n    <g id=\"xtick_6\">\n     <g id=\"line2d_6\">\n      <g>\n       <use style=\"stroke:#000000;stroke-width:0.8;\" x=\"363.641193\" xlink:href=\"#m0fcedbce29\" y=\"242.548906\"/>\n      </g>\n     </g>\n     <g id=\"text_6\">\n      <!-- 1.0 -->\n      <g transform=\"translate(355.689631 257.147344)scale(0.1 -0.1)\">\n       <defs>\n        <path d=\"M 12.40625 8.296875 \nL 28.515625 8.296875 \nL 28.515625 63.921875 \nL 10.984375 60.40625 \nL 10.984375 69.390625 \nL 28.421875 72.90625 \nL 38.28125 72.90625 \nL 38.28125 8.296875 \nL 54.390625 8.296875 \nL 54.390625 0 \nL 12.40625 0 \nz\n\" id=\"DejaVuSans-49\"/>\n       </defs>\n       <use xlink:href=\"#DejaVuSans-49\"/>\n       <use x=\"63.623047\" xlink:href=\"#DejaVuSans-46\"/>\n       <use x=\"95.410156\" xlink:href=\"#DejaVuSans-48\"/>\n      </g>\n     </g>\n    </g>\n    <g id=\"text_7\">\n     <!-- False Positive Rate (Positive label: NON DISASTER_) -->\n     <g transform=\"translate(82.89375 270.825469)scale(0.1 -0.1)\">\n      <defs>\n       <path d=\"M 9.8125 72.90625 \nL 51.703125 72.90625 \nL 51.703125 64.59375 \nL 19.671875 64.59375 \nL 19.671875 43.109375 \nL 48.578125 43.109375 \nL 48.578125 34.8125 \nL 19.671875 34.8125 \nL 19.671875 0 \nL 9.8125 0 \nz\n\" id=\"DejaVuSans-70\"/>\n       <path d=\"M 34.28125 27.484375 \nQ 23.390625 27.484375 19.1875 25 \nQ 14.984375 22.515625 14.984375 16.5 \nQ 14.984375 11.71875 18.140625 8.90625 \nQ 21.296875 6.109375 26.703125 6.109375 \nQ 34.1875 6.109375 38.703125 11.40625 \nQ 43.21875 16.703125 43.21875 25.484375 \nL 43.21875 27.484375 \nz\nM 52.203125 31.203125 \nL 52.203125 0 \nL 43.21875 0 \nL 43.21875 8.296875 \nQ 40.140625 3.328125 35.546875 0.953125 \nQ 30.953125 -1.421875 24.3125 -1.421875 \nQ 15.921875 -1.421875 10.953125 3.296875 \nQ 6 8.015625 6 15.921875 \nQ 6 25.140625 12.171875 29.828125 \nQ 18.359375 34.515625 30.609375 34.515625 \nL 43.21875 34.515625 \nL 43.21875 35.40625 \nQ 43.21875 41.609375 39.140625 45 \nQ 35.0625 48.390625 27.6875 48.390625 \nQ 23 48.390625 18.546875 47.265625 \nQ 14.109375 46.140625 10.015625 43.890625 \nL 10.015625 52.203125 \nQ 14.9375 54.109375 19.578125 55.046875 \nQ 24.21875 56 28.609375 56 \nQ 40.484375 56 46.34375 49.84375 \nQ 52.203125 43.703125 52.203125 31.203125 \nz\n\" id=\"DejaVuSans-97\"/>\n       <path d=\"M 9.421875 75.984375 \nL 18.40625 75.984375 \nL 18.40625 0 \nL 9.421875 0 \nz\n\" id=\"DejaVuSans-108\"/>\n       <path d=\"M 44.28125 53.078125 \nL 44.28125 44.578125 \nQ 40.484375 46.53125 36.375 47.5 \nQ 32.28125 48.484375 27.875 48.484375 \nQ 21.1875 48.484375 17.84375 46.4375 \nQ 14.5 44.390625 14.5 40.28125 \nQ 14.5 37.15625 16.890625 35.375 \nQ 19.28125 33.59375 26.515625 31.984375 \nL 29.59375 31.296875 \nQ 39.15625 29.25 43.1875 25.515625 \nQ 47.21875 21.78125 47.21875 15.09375 \nQ 47.21875 7.46875 41.1875 3.015625 \nQ 35.15625 -1.421875 24.609375 -1.421875 \nQ 20.21875 -1.421875 15.453125 -0.5625 \nQ 10.6875 0.296875 5.421875 2 \nL 5.421875 11.28125 \nQ 10.40625 8.6875 15.234375 7.390625 \nQ 20.0625 6.109375 24.8125 6.109375 \nQ 31.15625 6.109375 34.5625 8.28125 \nQ 37.984375 10.453125 37.984375 14.40625 \nQ 37.984375 18.0625 35.515625 20.015625 \nQ 33.0625 21.96875 24.703125 23.78125 \nL 21.578125 24.515625 \nQ 13.234375 26.265625 9.515625 29.90625 \nQ 5.8125 33.546875 5.8125 39.890625 \nQ 5.8125 47.609375 11.28125 51.796875 \nQ 16.75 56 26.8125 56 \nQ 31.78125 56 36.171875 55.265625 \nQ 40.578125 54.546875 44.28125 53.078125 \nz\n\" id=\"DejaVuSans-115\"/>\n       <path d=\"M 56.203125 29.59375 \nL 56.203125 25.203125 \nL 14.890625 25.203125 \nQ 15.484375 15.921875 20.484375 11.0625 \nQ 25.484375 6.203125 34.421875 6.203125 \nQ 39.59375 6.203125 44.453125 7.46875 \nQ 49.3125 8.734375 54.109375 11.28125 \nL 54.109375 2.78125 \nQ 49.265625 0.734375 44.1875 -0.34375 \nQ 39.109375 -1.421875 33.890625 -1.421875 \nQ 20.796875 -1.421875 13.15625 6.1875 \nQ 5.515625 13.8125 5.515625 26.8125 \nQ 5.515625 40.234375 12.765625 48.109375 \nQ 20.015625 56 32.328125 56 \nQ 43.359375 56 49.78125 48.890625 \nQ 56.203125 41.796875 56.203125 29.59375 \nz\nM 47.21875 32.234375 \nQ 47.125 39.59375 43.09375 43.984375 \nQ 39.0625 48.390625 32.421875 48.390625 \nQ 24.90625 48.390625 20.390625 44.140625 \nQ 15.875 39.890625 15.1875 32.171875 \nz\n\" id=\"DejaVuSans-101\"/>\n       <path id=\"DejaVuSans-32\"/>\n       <path d=\"M 19.671875 64.796875 \nL 19.671875 37.40625 \nL 32.078125 37.40625 \nQ 38.96875 37.40625 42.71875 40.96875 \nQ 46.484375 44.53125 46.484375 51.125 \nQ 46.484375 57.671875 42.71875 61.234375 \nQ 38.96875 64.796875 32.078125 64.796875 \nz\nM 9.8125 72.90625 \nL 32.078125 72.90625 \nQ 44.34375 72.90625 50.609375 67.359375 \nQ 56.890625 61.8125 56.890625 51.125 \nQ 56.890625 40.328125 50.609375 34.8125 \nQ 44.34375 29.296875 32.078125 29.296875 \nL 19.671875 29.296875 \nL 19.671875 0 \nL 9.8125 0 \nz\n\" id=\"DejaVuSans-80\"/>\n       <path d=\"M 30.609375 48.390625 \nQ 23.390625 48.390625 19.1875 42.75 \nQ 14.984375 37.109375 14.984375 27.296875 \nQ 14.984375 17.484375 19.15625 11.84375 \nQ 23.34375 6.203125 30.609375 6.203125 \nQ 37.796875 6.203125 41.984375 11.859375 \nQ 46.1875 17.53125 46.1875 27.296875 \nQ 46.1875 37.015625 41.984375 42.703125 \nQ 37.796875 48.390625 30.609375 48.390625 \nz\nM 30.609375 56 \nQ 42.328125 56 49.015625 48.375 \nQ 55.71875 40.765625 55.71875 27.296875 \nQ 55.71875 13.875 49.015625 6.21875 \nQ 42.328125 -1.421875 30.609375 -1.421875 \nQ 18.84375 -1.421875 12.171875 6.21875 \nQ 5.515625 13.875 5.515625 27.296875 \nQ 5.515625 40.765625 12.171875 48.375 \nQ 18.84375 56 30.609375 56 \nz\n\" id=\"DejaVuSans-111\"/>\n       <path d=\"M 9.421875 54.6875 \nL 18.40625 54.6875 \nL 18.40625 0 \nL 9.421875 0 \nz\nM 9.421875 75.984375 \nL 18.40625 75.984375 \nL 18.40625 64.59375 \nL 9.421875 64.59375 \nz\n\" id=\"DejaVuSans-105\"/>\n       <path d=\"M 18.3125 70.21875 \nL 18.3125 54.6875 \nL 36.8125 54.6875 \nL 36.8125 47.703125 \nL 18.3125 47.703125 \nL 18.3125 18.015625 \nQ 18.3125 11.328125 20.140625 9.421875 \nQ 21.96875 7.515625 27.59375 7.515625 \nL 36.8125 7.515625 \nL 36.8125 0 \nL 27.59375 0 \nQ 17.1875 0 13.234375 3.875 \nQ 9.28125 7.765625 9.28125 18.015625 \nL 9.28125 47.703125 \nL 2.6875 47.703125 \nL 2.6875 54.6875 \nL 9.28125 54.6875 \nL 9.28125 70.21875 \nz\n\" id=\"DejaVuSans-116\"/>\n       <path d=\"M 2.984375 54.6875 \nL 12.5 54.6875 \nL 29.59375 8.796875 \nL 46.6875 54.6875 \nL 56.203125 54.6875 \nL 35.6875 0 \nL 23.484375 0 \nz\n\" id=\"DejaVuSans-118\"/>\n       <path d=\"M 44.390625 34.1875 \nQ 47.5625 33.109375 50.5625 29.59375 \nQ 53.5625 26.078125 56.59375 19.921875 \nL 66.609375 0 \nL 56 0 \nL 46.6875 18.703125 \nQ 43.0625 26.03125 39.671875 28.421875 \nQ 36.28125 30.8125 30.421875 30.8125 \nL 19.671875 30.8125 \nL 19.671875 0 \nL 9.8125 0 \nL 9.8125 72.90625 \nL 32.078125 72.90625 \nQ 44.578125 72.90625 50.734375 67.671875 \nQ 56.890625 62.453125 56.890625 51.90625 \nQ 56.890625 45.015625 53.6875 40.46875 \nQ 50.484375 35.9375 44.390625 34.1875 \nz\nM 19.671875 64.796875 \nL 19.671875 38.921875 \nL 32.078125 38.921875 \nQ 39.203125 38.921875 42.84375 42.21875 \nQ 46.484375 45.515625 46.484375 51.90625 \nQ 46.484375 58.296875 42.84375 61.546875 \nQ 39.203125 64.796875 32.078125 64.796875 \nz\n\" id=\"DejaVuSans-82\"/>\n       <path d=\"M 31 75.875 \nQ 24.46875 64.65625 21.28125 53.65625 \nQ 18.109375 42.671875 18.109375 31.390625 \nQ 18.109375 20.125 21.3125 9.0625 \nQ 24.515625 -2 31 -13.1875 \nL 23.1875 -13.1875 \nQ 15.875 -1.703125 12.234375 9.375 \nQ 8.59375 20.453125 8.59375 31.390625 \nQ 8.59375 42.28125 12.203125 53.3125 \nQ 15.828125 64.359375 23.1875 75.875 \nz\n\" id=\"DejaVuSans-40\"/>\n       <path d=\"M 48.6875 27.296875 \nQ 48.6875 37.203125 44.609375 42.84375 \nQ 40.53125 48.484375 33.40625 48.484375 \nQ 26.265625 48.484375 22.1875 42.84375 \nQ 18.109375 37.203125 18.109375 27.296875 \nQ 18.109375 17.390625 22.1875 11.75 \nQ 26.265625 6.109375 33.40625 6.109375 \nQ 40.53125 6.109375 44.609375 11.75 \nQ 48.6875 17.390625 48.6875 27.296875 \nz\nM 18.109375 46.390625 \nQ 20.953125 51.265625 25.265625 53.625 \nQ 29.59375 56 35.59375 56 \nQ 45.5625 56 51.78125 48.09375 \nQ 58.015625 40.1875 58.015625 27.296875 \nQ 58.015625 14.40625 51.78125 6.484375 \nQ 45.5625 -1.421875 35.59375 -1.421875 \nQ 29.59375 -1.421875 25.265625 0.953125 \nQ 20.953125 3.328125 18.109375 8.203125 \nL 18.109375 0 \nL 9.078125 0 \nL 9.078125 75.984375 \nL 18.109375 75.984375 \nz\n\" id=\"DejaVuSans-98\"/>\n       <path d=\"M 11.71875 12.40625 \nL 22.015625 12.40625 \nL 22.015625 0 \nL 11.71875 0 \nz\nM 11.71875 51.703125 \nL 22.015625 51.703125 \nL 22.015625 39.3125 \nL 11.71875 39.3125 \nz\n\" id=\"DejaVuSans-58\"/>\n       <path d=\"M 9.8125 72.90625 \nL 23.09375 72.90625 \nL 55.421875 11.921875 \nL 55.421875 72.90625 \nL 64.984375 72.90625 \nL 64.984375 0 \nL 51.703125 0 \nL 19.390625 60.984375 \nL 19.390625 0 \nL 9.8125 0 \nz\n\" id=\"DejaVuSans-78\"/>\n       <path d=\"M 39.40625 66.21875 \nQ 28.65625 66.21875 22.328125 58.203125 \nQ 16.015625 50.203125 16.015625 36.375 \nQ 16.015625 22.609375 22.328125 14.59375 \nQ 28.65625 6.59375 39.40625 6.59375 \nQ 50.140625 6.59375 56.421875 14.59375 \nQ 62.703125 22.609375 62.703125 36.375 \nQ 62.703125 50.203125 56.421875 58.203125 \nQ 50.140625 66.21875 39.40625 66.21875 \nz\nM 39.40625 74.21875 \nQ 54.734375 74.21875 63.90625 63.9375 \nQ 73.09375 53.65625 73.09375 36.375 \nQ 73.09375 19.140625 63.90625 8.859375 \nQ 54.734375 -1.421875 39.40625 -1.421875 \nQ 24.03125 -1.421875 14.8125 8.828125 \nQ 5.609375 19.09375 5.609375 36.375 \nQ 5.609375 53.65625 14.8125 63.9375 \nQ 24.03125 74.21875 39.40625 74.21875 \nz\n\" id=\"DejaVuSans-79\"/>\n       <path d=\"M 19.671875 64.796875 \nL 19.671875 8.109375 \nL 31.59375 8.109375 \nQ 46.6875 8.109375 53.6875 14.9375 \nQ 60.6875 21.78125 60.6875 36.53125 \nQ 60.6875 51.171875 53.6875 57.984375 \nQ 46.6875 64.796875 31.59375 64.796875 \nz\nM 9.8125 72.90625 \nL 30.078125 72.90625 \nQ 51.265625 72.90625 61.171875 64.09375 \nQ 71.09375 55.28125 71.09375 36.53125 \nQ 71.09375 17.671875 61.125 8.828125 \nQ 51.171875 0 30.078125 0 \nL 9.8125 0 \nz\n\" id=\"DejaVuSans-68\"/>\n       <path d=\"M 9.8125 72.90625 \nL 19.671875 72.90625 \nL 19.671875 0 \nL 9.8125 0 \nz\n\" id=\"DejaVuSans-73\"/>\n       <path d=\"M 53.515625 70.515625 \nL 53.515625 60.890625 \nQ 47.90625 63.578125 42.921875 64.890625 \nQ 37.9375 66.21875 33.296875 66.21875 \nQ 25.25 66.21875 20.875 63.09375 \nQ 16.5 59.96875 16.5 54.203125 \nQ 16.5 49.359375 19.40625 46.890625 \nQ 22.3125 44.4375 30.421875 42.921875 \nL 36.375 41.703125 \nQ 47.40625 39.59375 52.65625 34.296875 \nQ 57.90625 29 57.90625 20.125 \nQ 57.90625 9.515625 50.796875 4.046875 \nQ 43.703125 -1.421875 29.984375 -1.421875 \nQ 24.8125 -1.421875 18.96875 -0.25 \nQ 13.140625 0.921875 6.890625 3.21875 \nL 6.890625 13.375 \nQ 12.890625 10.015625 18.65625 8.296875 \nQ 24.421875 6.59375 29.984375 6.59375 \nQ 38.421875 6.59375 43.015625 9.90625 \nQ 47.609375 13.234375 47.609375 19.390625 \nQ 47.609375 24.75 44.3125 27.78125 \nQ 41.015625 30.8125 33.5 32.328125 \nL 27.484375 33.5 \nQ 16.453125 35.6875 11.515625 40.375 \nQ 6.59375 45.0625 6.59375 53.421875 \nQ 6.59375 63.09375 13.40625 68.65625 \nQ 20.21875 74.21875 32.171875 74.21875 \nQ 37.3125 74.21875 42.625 73.28125 \nQ 47.953125 72.359375 53.515625 70.515625 \nz\n\" id=\"DejaVuSans-83\"/>\n       <path d=\"M 34.1875 63.1875 \nL 20.796875 26.90625 \nL 47.609375 26.90625 \nz\nM 28.609375 72.90625 \nL 39.796875 72.90625 \nL 67.578125 0 \nL 57.328125 0 \nL 50.6875 18.703125 \nL 17.828125 18.703125 \nL 11.1875 0 \nL 0.78125 0 \nz\n\" id=\"DejaVuSans-65\"/>\n       <path d=\"M -0.296875 72.90625 \nL 61.375 72.90625 \nL 61.375 64.59375 \nL 35.5 64.59375 \nL 35.5 0 \nL 25.59375 0 \nL 25.59375 64.59375 \nL -0.296875 64.59375 \nz\n\" id=\"DejaVuSans-84\"/>\n       <path d=\"M 9.8125 72.90625 \nL 55.90625 72.90625 \nL 55.90625 64.59375 \nL 19.671875 64.59375 \nL 19.671875 43.015625 \nL 54.390625 43.015625 \nL 54.390625 34.71875 \nL 19.671875 34.71875 \nL 19.671875 8.296875 \nL 56.78125 8.296875 \nL 56.78125 0 \nL 9.8125 0 \nz\n\" id=\"DejaVuSans-69\"/>\n       <path d=\"M 50.984375 -16.609375 \nL 50.984375 -23.578125 \nL -0.984375 -23.578125 \nL -0.984375 -16.609375 \nz\n\" id=\"DejaVuSans-95\"/>\n       <path d=\"M 8.015625 75.875 \nL 15.828125 75.875 \nQ 23.140625 64.359375 26.78125 53.3125 \nQ 30.421875 42.28125 30.421875 31.390625 \nQ 30.421875 20.453125 26.78125 9.375 \nQ 23.140625 -1.703125 15.828125 -13.1875 \nL 8.015625 -13.1875 \nQ 14.5 -2 17.703125 9.0625 \nQ 20.90625 20.125 20.90625 31.390625 \nQ 20.90625 42.671875 17.703125 53.65625 \nQ 14.5 64.65625 8.015625 75.875 \nz\n\" id=\"DejaVuSans-41\"/>\n      </defs>\n      <use xlink:href=\"#DejaVuSans-70\"/>\n      <use x=\"48.394531\" xlink:href=\"#DejaVuSans-97\"/>\n      <use x=\"109.673828\" xlink:href=\"#DejaVuSans-108\"/>\n      <use x=\"137.457031\" xlink:href=\"#DejaVuSans-115\"/>\n      <use x=\"189.556641\" xlink:href=\"#DejaVuSans-101\"/>\n      <use x=\"251.080078\" xlink:href=\"#DejaVuSans-32\"/>\n      <use x=\"282.867188\" xlink:href=\"#DejaVuSans-80\"/>\n      <use x=\"339.544922\" xlink:href=\"#DejaVuSans-111\"/>\n      <use x=\"400.726562\" xlink:href=\"#DejaVuSans-115\"/>\n      <use x=\"452.826172\" xlink:href=\"#DejaVuSans-105\"/>\n      <use x=\"480.609375\" xlink:href=\"#DejaVuSans-116\"/>\n      <use x=\"519.818359\" xlink:href=\"#DejaVuSans-105\"/>\n      <use x=\"547.601562\" xlink:href=\"#DejaVuSans-118\"/>\n      <use x=\"606.78125\" xlink:href=\"#DejaVuSans-101\"/>\n      <use x=\"668.304688\" xlink:href=\"#DejaVuSans-32\"/>\n      <use x=\"700.091797\" xlink:href=\"#DejaVuSans-82\"/>\n      <use x=\"767.324219\" xlink:href=\"#DejaVuSans-97\"/>\n      <use x=\"828.603516\" xlink:href=\"#DejaVuSans-116\"/>\n      <use x=\"867.8125\" xlink:href=\"#DejaVuSans-101\"/>\n      <use x=\"929.335938\" xlink:href=\"#DejaVuSans-32\"/>\n      <use x=\"961.123047\" xlink:href=\"#DejaVuSans-40\"/>\n      <use x=\"1000.136719\" xlink:href=\"#DejaVuSans-80\"/>\n      <use x=\"1056.814453\" xlink:href=\"#DejaVuSans-111\"/>\n      <use x=\"1117.996094\" xlink:href=\"#DejaVuSans-115\"/>\n      <use x=\"1170.095703\" xlink:href=\"#DejaVuSans-105\"/>\n      <use x=\"1197.878906\" xlink:href=\"#DejaVuSans-116\"/>\n      <use x=\"1237.087891\" xlink:href=\"#DejaVuSans-105\"/>\n      <use x=\"1264.871094\" xlink:href=\"#DejaVuSans-118\"/>\n      <use x=\"1324.050781\" xlink:href=\"#DejaVuSans-101\"/>\n      <use x=\"1385.574219\" xlink:href=\"#DejaVuSans-32\"/>\n      <use x=\"1417.361328\" xlink:href=\"#DejaVuSans-108\"/>\n      <use x=\"1445.144531\" xlink:href=\"#DejaVuSans-97\"/>\n      <use x=\"1506.423828\" xlink:href=\"#DejaVuSans-98\"/>\n      <use x=\"1569.900391\" xlink:href=\"#DejaVuSans-101\"/>\n      <use x=\"1631.423828\" xlink:href=\"#DejaVuSans-108\"/>\n      <use x=\"1659.207031\" xlink:href=\"#DejaVuSans-58\"/>\n      <use x=\"1692.898438\" xlink:href=\"#DejaVuSans-32\"/>\n      <use x=\"1724.685547\" xlink:href=\"#DejaVuSans-78\"/>\n      <use x=\"1799.490234\" xlink:href=\"#DejaVuSans-79\"/>\n      <use x=\"1878.201172\" xlink:href=\"#DejaVuSans-78\"/>\n      <use x=\"1953.005859\" xlink:href=\"#DejaVuSans-32\"/>\n      <use x=\"1984.792969\" xlink:href=\"#DejaVuSans-68\"/>\n      <use x=\"2061.794922\" xlink:href=\"#DejaVuSans-73\"/>\n      <use x=\"2091.287109\" xlink:href=\"#DejaVuSans-83\"/>\n      <use x=\"2156.638672\" xlink:href=\"#DejaVuSans-65\"/>\n      <use x=\"2225.046875\" xlink:href=\"#DejaVuSans-83\"/>\n      <use x=\"2288.523438\" xlink:href=\"#DejaVuSans-84\"/>\n      <use x=\"2349.607422\" xlink:href=\"#DejaVuSans-69\"/>\n      <use x=\"2412.791016\" xlink:href=\"#DejaVuSans-82\"/>\n      <use x=\"2482.273438\" xlink:href=\"#DejaVuSans-95\"/>\n      <use x=\"2532.273438\" xlink:href=\"#DejaVuSans-41\"/>\n     </g>\n    </g>\n   </g>\n   <g id=\"matplotlib.axis_2\">\n    <g id=\"ytick_1\">\n     <g id=\"line2d_7\">\n      <defs>\n       <path d=\"M 0 0 \nL -3.5 0 \n\" id=\"m3eaf95caef\" style=\"stroke:#000000;stroke-width:0.8;\"/>\n      </defs>\n      <g>\n       <use style=\"stroke:#000000;stroke-width:0.8;\" x=\"44.059375\" xlink:href=\"#m3eaf95caef\" y=\"232.66527\"/>\n      </g>\n     </g>\n     <g id=\"text_8\">\n      <!-- 0.0 -->\n      <g transform=\"translate(21.15625 236.464489)scale(0.1 -0.1)\">\n       <use xlink:href=\"#DejaVuSans-48\"/>\n       <use x=\"63.623047\" xlink:href=\"#DejaVuSans-46\"/>\n       <use x=\"95.410156\" xlink:href=\"#DejaVuSans-48\"/>\n      </g>\n     </g>\n    </g>\n    <g id=\"ytick_2\">\n     <g id=\"line2d_8\">\n      <g>\n       <use style=\"stroke:#000000;stroke-width:0.8;\" x=\"44.059375\" xlink:href=\"#m3eaf95caef\" y=\"193.130724\"/>\n      </g>\n     </g>\n     <g id=\"text_9\">\n      <!-- 0.2 -->\n      <g transform=\"translate(21.15625 196.929943)scale(0.1 -0.1)\">\n       <use xlink:href=\"#DejaVuSans-48\"/>\n       <use x=\"63.623047\" xlink:href=\"#DejaVuSans-46\"/>\n       <use x=\"95.410156\" xlink:href=\"#DejaVuSans-50\"/>\n      </g>\n     </g>\n    </g>\n    <g id=\"ytick_3\">\n     <g id=\"line2d_9\">\n      <g>\n       <use style=\"stroke:#000000;stroke-width:0.8;\" x=\"44.059375\" xlink:href=\"#m3eaf95caef\" y=\"153.596179\"/>\n      </g>\n     </g>\n     <g id=\"text_10\">\n      <!-- 0.4 -->\n      <g transform=\"translate(21.15625 157.395398)scale(0.1 -0.1)\">\n       <use xlink:href=\"#DejaVuSans-48\"/>\n       <use x=\"63.623047\" xlink:href=\"#DejaVuSans-46\"/>\n       <use x=\"95.410156\" xlink:href=\"#DejaVuSans-52\"/>\n      </g>\n     </g>\n    </g>\n    <g id=\"ytick_4\">\n     <g id=\"line2d_10\">\n      <g>\n       <use style=\"stroke:#000000;stroke-width:0.8;\" x=\"44.059375\" xlink:href=\"#m3eaf95caef\" y=\"114.061634\"/>\n      </g>\n     </g>\n     <g id=\"text_11\">\n      <!-- 0.6 -->\n      <g transform=\"translate(21.15625 117.860852)scale(0.1 -0.1)\">\n       <use xlink:href=\"#DejaVuSans-48\"/>\n       <use x=\"63.623047\" xlink:href=\"#DejaVuSans-46\"/>\n       <use x=\"95.410156\" xlink:href=\"#DejaVuSans-54\"/>\n      </g>\n     </g>\n    </g>\n    <g id=\"ytick_5\">\n     <g id=\"line2d_11\">\n      <g>\n       <use style=\"stroke:#000000;stroke-width:0.8;\" x=\"44.059375\" xlink:href=\"#m3eaf95caef\" y=\"74.527088\"/>\n      </g>\n     </g>\n     <g id=\"text_12\">\n      <!-- 0.8 -->\n      <g transform=\"translate(21.15625 78.326307)scale(0.1 -0.1)\">\n       <use xlink:href=\"#DejaVuSans-48\"/>\n       <use x=\"63.623047\" xlink:href=\"#DejaVuSans-46\"/>\n       <use x=\"95.410156\" xlink:href=\"#DejaVuSans-56\"/>\n      </g>\n     </g>\n    </g>\n    <g id=\"ytick_6\">\n     <g id=\"line2d_12\">\n      <g>\n       <use style=\"stroke:#000000;stroke-width:0.8;\" x=\"44.059375\" xlink:href=\"#m3eaf95caef\" y=\"34.992543\"/>\n      </g>\n     </g>\n     <g id=\"text_13\">\n      <!-- 1.0 -->\n      <g transform=\"translate(21.15625 38.791761)scale(0.1 -0.1)\">\n       <use xlink:href=\"#DejaVuSans-49\"/>\n       <use x=\"63.623047\" xlink:href=\"#DejaVuSans-46\"/>\n       <use x=\"95.410156\" xlink:href=\"#DejaVuSans-48\"/>\n      </g>\n     </g>\n    </g>\n    <g id=\"text_14\">\n     <!-- True Positive Rate (Positive label: NON DISASTER_) -->\n     <g transform=\"translate(14.798438 260.457813)rotate(-90)scale(0.1 -0.1)\">\n      <defs>\n       <path d=\"M 41.109375 46.296875 \nQ 39.59375 47.171875 37.8125 47.578125 \nQ 36.03125 48 33.890625 48 \nQ 26.265625 48 22.1875 43.046875 \nQ 18.109375 38.09375 18.109375 28.8125 \nL 18.109375 0 \nL 9.078125 0 \nL 9.078125 54.6875 \nL 18.109375 54.6875 \nL 18.109375 46.1875 \nQ 20.953125 51.171875 25.484375 53.578125 \nQ 30.03125 56 36.53125 56 \nQ 37.453125 56 38.578125 55.875 \nQ 39.703125 55.765625 41.0625 55.515625 \nz\n\" id=\"DejaVuSans-114\"/>\n       <path d=\"M 8.5 21.578125 \nL 8.5 54.6875 \nL 17.484375 54.6875 \nL 17.484375 21.921875 \nQ 17.484375 14.15625 20.5 10.265625 \nQ 23.53125 6.390625 29.59375 6.390625 \nQ 36.859375 6.390625 41.078125 11.03125 \nQ 45.3125 15.671875 45.3125 23.6875 \nL 45.3125 54.6875 \nL 54.296875 54.6875 \nL 54.296875 0 \nL 45.3125 0 \nL 45.3125 8.40625 \nQ 42.046875 3.421875 37.71875 1 \nQ 33.40625 -1.421875 27.6875 -1.421875 \nQ 18.265625 -1.421875 13.375 4.4375 \nQ 8.5 10.296875 8.5 21.578125 \nz\nM 31.109375 56 \nz\n\" id=\"DejaVuSans-117\"/>\n      </defs>\n      <use xlink:href=\"#DejaVuSans-84\"/>\n      <use x=\"46.333984\" xlink:href=\"#DejaVuSans-114\"/>\n      <use x=\"87.447266\" xlink:href=\"#DejaVuSans-117\"/>\n      <use x=\"150.826172\" xlink:href=\"#DejaVuSans-101\"/>\n      <use x=\"212.349609\" xlink:href=\"#DejaVuSans-32\"/>\n      <use x=\"244.136719\" xlink:href=\"#DejaVuSans-80\"/>\n      <use x=\"300.814453\" xlink:href=\"#DejaVuSans-111\"/>\n      <use x=\"361.996094\" xlink:href=\"#DejaVuSans-115\"/>\n      <use x=\"414.095703\" xlink:href=\"#DejaVuSans-105\"/>\n      <use x=\"441.878906\" xlink:href=\"#DejaVuSans-116\"/>\n      <use x=\"481.087891\" xlink:href=\"#DejaVuSans-105\"/>\n      <use x=\"508.871094\" xlink:href=\"#DejaVuSans-118\"/>\n      <use x=\"568.050781\" xlink:href=\"#DejaVuSans-101\"/>\n      <use x=\"629.574219\" xlink:href=\"#DejaVuSans-32\"/>\n      <use x=\"661.361328\" xlink:href=\"#DejaVuSans-82\"/>\n      <use x=\"728.59375\" xlink:href=\"#DejaVuSans-97\"/>\n      <use x=\"789.873047\" xlink:href=\"#DejaVuSans-116\"/>\n      <use x=\"829.082031\" xlink:href=\"#DejaVuSans-101\"/>\n      <use x=\"890.605469\" xlink:href=\"#DejaVuSans-32\"/>\n      <use x=\"922.392578\" xlink:href=\"#DejaVuSans-40\"/>\n      <use x=\"961.40625\" xlink:href=\"#DejaVuSans-80\"/>\n      <use x=\"1018.083984\" xlink:href=\"#DejaVuSans-111\"/>\n      <use x=\"1079.265625\" xlink:href=\"#DejaVuSans-115\"/>\n      <use x=\"1131.365234\" xlink:href=\"#DejaVuSans-105\"/>\n      <use x=\"1159.148438\" xlink:href=\"#DejaVuSans-116\"/>\n      <use x=\"1198.357422\" xlink:href=\"#DejaVuSans-105\"/>\n      <use x=\"1226.140625\" xlink:href=\"#DejaVuSans-118\"/>\n      <use x=\"1285.320312\" xlink:href=\"#DejaVuSans-101\"/>\n      <use x=\"1346.84375\" xlink:href=\"#DejaVuSans-32\"/>\n      <use x=\"1378.630859\" xlink:href=\"#DejaVuSans-108\"/>\n      <use x=\"1406.414062\" xlink:href=\"#DejaVuSans-97\"/>\n      <use x=\"1467.693359\" xlink:href=\"#DejaVuSans-98\"/>\n      <use x=\"1531.169922\" xlink:href=\"#DejaVuSans-101\"/>\n      <use x=\"1592.693359\" xlink:href=\"#DejaVuSans-108\"/>\n      <use x=\"1620.476562\" xlink:href=\"#DejaVuSans-58\"/>\n      <use x=\"1654.167969\" xlink:href=\"#DejaVuSans-32\"/>\n      <use x=\"1685.955078\" xlink:href=\"#DejaVuSans-78\"/>\n      <use x=\"1760.759766\" xlink:href=\"#DejaVuSans-79\"/>\n      <use x=\"1839.470703\" xlink:href=\"#DejaVuSans-78\"/>\n      <use x=\"1914.275391\" xlink:href=\"#DejaVuSans-32\"/>\n      <use x=\"1946.0625\" xlink:href=\"#DejaVuSans-68\"/>\n      <use x=\"2023.064453\" xlink:href=\"#DejaVuSans-73\"/>\n      <use x=\"2052.556641\" xlink:href=\"#DejaVuSans-83\"/>\n      <use x=\"2117.908203\" xlink:href=\"#DejaVuSans-65\"/>\n      <use x=\"2186.316406\" xlink:href=\"#DejaVuSans-83\"/>\n      <use x=\"2249.792969\" xlink:href=\"#DejaVuSans-84\"/>\n      <use x=\"2310.876953\" xlink:href=\"#DejaVuSans-69\"/>\n      <use x=\"2374.060547\" xlink:href=\"#DejaVuSans-82\"/>\n      <use x=\"2443.542969\" xlink:href=\"#DejaVuSans-95\"/>\n      <use x=\"2493.542969\" xlink:href=\"#DejaVuSans-41\"/>\n     </g>\n    </g>\n   </g>\n   <g id=\"line2d_13\">\n    <path clip-path=\"url(#p232a15fdad)\" d=\"M 59.277557 232.66527 \nL 59.277557 224.512599 \nL 59.403223 222.897819 \nL 59.403223 222.779664 \nL 59.528889 222.031352 \nL 59.528889 209.861423 \nL 59.654556 209.861423 \nL 59.654556 208.679876 \nL 59.780222 208.640491 \nL 59.780222 206.277398 \nL 59.905888 206.277398 \nL 59.905888 198.991195 \nL 60.031554 198.991195 \nL 60.408553 194.895167 \nL 60.408553 186.033569 \nL 60.785552 184.576328 \nL 63.550209 155.510284 \nL 63.550209 148.38162 \nL 63.675875 148.145311 \nL 63.675875 147.830232 \nL 63.801542 147.081919 \nL 64.052874 146.727455 \nL 64.052874 145.467139 \nL 64.17854 145.270215 \nL 64.17854 143.143431 \nL 64.429873 142.867737 \nL 64.429873 141.76496 \nL 64.555539 141.134802 \nL 64.555539 136.014767 \nL 64.681205 136.014767 \nL 64.681205 135.935997 \nL 64.806871 135.896613 \nL 64.806871 133.887984 \nL 64.932538 133.336595 \nL 64.932538 125.223309 \nL 66.063534 121.52113 \nL 66.063534 121.402976 \nL 66.1892 120.497123 \nL 66.1892 120.06389 \nL 66.314866 120.06389 \nL 66.314866 117.110023 \nL 66.691865 116.794944 \nL 66.691865 115.298319 \nL 66.817531 114.8257 \nL 66.817531 111.67491 \nL 66.943198 111.67491 \nL 66.943198 110.099514 \nL 67.068864 110.099514 \nL 67.068864 108.602889 \nL 67.19453 108.602889 \nL 67.19453 102.931466 \nL 67.320196 102.931466 \nL 67.320196 101.986228 \nL 67.445863 101.986228 \nL 67.445863 101.43484 \nL 67.571529 101.316685 \nL 67.571529 101.119761 \nL 67.697195 101.001606 \nL 67.697195 99.82006 \nL 67.822861 99.82006 \nL 67.822861 99.74129 \nL 67.822861 99.308056 \nL 67.948527 99.308056 \nL 67.948527 97.653891 \nL 68.074194 97.614506 \nL 68.074194 97.299427 \nL 68.19986 97.260042 \nL 68.19986 97.023733 \nL 68.325526 97.023733 \nL 68.325526 96.669269 \nL 68.451192 96.669269 \nL 68.451192 96.472345 \nL 68.576859 96.393575 \nL 68.576859 95.763417 \nL 68.702525 95.763417 \nL 68.702525 94.700025 \nL 68.828191 94.700025 \nL 68.828191 93.833558 \nL 69.079524 93.676018 \nL 69.079524 92.494472 \nL 69.20519 92.455087 \nL 69.20519 91.50985 \nL 69.330856 91.50985 \nL 69.330856 90.958461 \nL 69.456522 90.958461 \nL 69.456522 89.343681 \nL 69.707855 89.343681 \nL 69.707855 89.264911 \nL 69.833521 89.186141 \nL 69.833521 87.96521 \nL 69.959187 87.96521 \nL 69.959187 87.610746 \nL 70.084854 87.610746 \nL 70.084854 87.295667 \nL 70.21052 87.295667 \nL 70.21052 86.744279 \nL 70.336186 86.744279 \nL 70.336186 86.665509 \nL 70.336186 85.562732 \nL 70.461852 85.562732 \nL 70.461852 85.483962 \nL 70.713185 84.49934 \nL 71.090183 84.223646 \nL 71.090183 83.278409 \nL 71.341516 83.239024 \nL 71.341516 82.80579 \nL 71.592848 82.80579 \nL 71.592848 82.569481 \nL 71.969847 82.215017 \nL 71.969847 82.057478 \nL 72.095513 81.978708 \nL 72.095513 81.34855 \nL 72.472512 81.151625 \nL 72.472512 80.560852 \nL 72.598178 80.285158 \nL 72.598178 79.694385 \nL 72.723845 79.694385 \nL 72.723845 77.449446 \nL 72.975177 77.449446 \nL 72.975177 76.701134 \nL 73.22651 76.661749 \nL 73.22651 76.2679 \nL 73.352176 76.2679 \nL 73.352176 75.519587 \nL 73.477842 75.519587 \nL 73.477842 74.771274 \nL 73.603508 74.771274 \nL 73.603508 73.510958 \nL 73.854841 73.471573 \nL 73.854841 72.841415 \nL 73.980507 72.841415 \nL 73.980507 72.605106 \nL 74.106173 72.605106 \nL 74.106173 72.486951 \nL 74.23184 72.408181 \nL 74.23184 72.211257 \nL 74.357506 72.132487 \nL 74.357506 71.620484 \nL 74.483172 71.620484 \nL 74.483172 71.384174 \nL 74.608838 71.384174 \nL 74.608838 71.18725 \nL 74.860171 71.069095 \nL 74.860171 69.611855 \nL 74.985837 69.611855 \nL 74.985837 69.375545 \nL 75.237169 69.218006 \nL 75.237169 68.666617 \nL 75.362836 68.666617 \nL 75.362836 68.587848 \nL 75.488502 68.548463 \nL 75.488502 67.72138 \nL 75.614168 67.72138 \nL 75.614168 67.248762 \nL 75.739834 67.248762 \nL 75.739834 66.618604 \nL 76.116833 66.18537 \nL 76.242499 66.18537 \nL 76.242499 65.791521 \nL 76.368166 65.752136 \nL 76.368166 65.555212 \nL 76.619498 65.555212 \nL 76.619498 65.437057 \nL 76.745164 65.437057 \nL 76.745164 65.043208 \nL 76.996497 64.846284 \nL 76.996497 64.57059 \nL 77.247829 64.57059 \nL 77.247829 64.452435 \nL 77.373496 64.452435 \nL 77.373496 64.373665 \nL 77.373496 64.176741 \nL 77.499162 64.176741 \nL 77.499162 63.901047 \nL 77.750494 63.822277 \nL 77.750494 63.585968 \nL 77.876161 63.585968 \nL 77.876161 63.428428 \nL 78.001827 63.428428 \nL 78.001827 63.034579 \nL 78.504492 62.955809 \nL 78.504492 62.601346 \nL 78.755824 62.522576 \nL 78.755824 62.246882 \nL 78.88149 62.246882 \nL 79.132823 61.813648 \nL 79.384155 61.813648 \nL 79.384155 61.616723 \nL 79.509822 61.616723 \nL 79.509822 61.459184 \nL 79.761154 61.380414 \nL 79.761154 61.144105 \nL 80.012487 61.10472 \nL 80.012487 60.907796 \nL 80.263819 60.907796 \nL 80.263819 60.474562 \nL 80.515152 60.395792 \nL 80.515152 59.529325 \nL 80.640818 59.529325 \nL 80.640818 59.25363 \nL 80.766484 59.056706 \nL 81.143483 58.977936 \nL 81.143483 58.781012 \nL 81.269149 58.781012 \nL 81.269149 58.465933 \nL 81.394815 58.465933 \nL 81.394815 58.347778 \nL 81.646148 58.308393 \nL 81.646148 58.111469 \nL 81.771814 58.111469 \nL 81.771814 57.953929 \nL 82.023146 57.914544 \nL 82.023146 57.71762 \nL 82.274479 57.71762 \nL 82.274479 57.520696 \nL 82.525811 57.520696 \nL 82.525811 57.363156 \nL 82.651478 57.363156 \nL 82.651478 57.245001 \nL 83.279809 57.205617 \nL 83.279809 56.969307 \nL 83.405475 56.969307 \nL 83.405475 56.811768 \nL 83.531141 56.811768 \nL 83.531141 56.693613 \nL 83.656808 56.693613 \nL 83.656808 56.457304 \nL 83.782474 56.457304 \nL 83.782474 56.299764 \nL 83.90814 56.299764 \nL 83.90814 56.18161 \nL 84.159473 56.142225 \nL 84.159473 55.984685 \nL 84.410805 55.984685 \nL 84.410805 55.748376 \nL 84.787804 55.669606 \nL 84.787804 55.512067 \nL 84.91347 55.512067 \nL 84.91347 55.275757 \nL 85.290469 55.196988 \nL 85.290469 55.078833 \nL 85.667467 55.078833 \nL 85.667467 54.724369 \nL 85.9188 54.645599 \nL 85.9188 54.606214 \nL 86.170132 54.527445 \nL 86.170132 54.40929 \nL 86.547131 54.40929 \nL 86.547131 54.291135 \nL 86.672797 54.291135 \nL 86.672797 53.936671 \nL 86.798464 53.936671 \nL 86.798464 53.818517 \nL 86.92413 53.818517 \nL 86.92413 53.700362 \nL 87.049796 53.700362 \nL 87.049796 53.503438 \nL 87.426795 53.424668 \nL 87.426795 53.227743 \nL 88.055126 53.188359 \nL 88.055126 53.148974 \nL 88.055126 53.070204 \nL 88.683457 52.991434 \nL 88.683457 52.873279 \nL 89.060456 52.833895 \nL 89.060456 52.71574 \nL 89.186122 52.71574 \nL 89.186122 52.5582 \nL 89.437455 52.5582 \nL 89.437455 52.361276 \nL 89.688787 52.282506 \nL 89.688787 52.164352 \nL 89.94012 52.085582 \nL 89.94012 52.046197 \nL 90.065786 52.046197 \nL 90.065786 51.888657 \nL 90.694117 51.849272 \nL 90.694117 51.731118 \nL 90.819783 51.731118 \nL 90.819783 51.612963 \nL 91.196782 51.534193 \nL 91.196782 51.455424 \nL 91.825113 51.376654 \nL 91.825113 51.297884 \nL 92.327778 51.297884 \nL 92.327778 51.179729 \nL 93.207442 50.904035 \nL 93.207442 50.785881 \nL 94.087106 50.707111 \nL 94.087106 50.588956 \nL 94.338438 50.549571 \nL 94.338438 50.431417 \nL 94.841103 50.392032 \nL 94.841103 50.273877 \nL 95.343768 50.195107 \nL 95.343768 50.155723 \nL 97.103095 50.076953 \nL 97.103095 50.037568 \nL 97.982759 49.958798 \nL 97.982759 49.880028 \nL 98.862423 49.801259 \nL 98.862423 49.761874 \nL 99.365088 49.683104 \nL 99.365088 49.564949 \nL 100.244751 49.564949 \nL 101.878413 49.1711 \nL 101.878413 49.052946 \nL 102.883743 48.974176 \nL 102.883743 48.934791 \nL 103.386408 48.895406 \nL 103.386408 48.816637 \nL 103.63774 48.816637 \nL 103.63774 48.698482 \nL 104.140405 48.619712 \nL 104.140405 48.462173 \nL 105.020069 48.383403 \nL 105.020069 48.344018 \nL 105.6484 48.344018 \nL 105.6484 48.225863 \nL 106.276731 48.147094 \nL 106.276731 48.028939 \nL 106.402397 48.028939 \nL 106.402397 47.871399 \nL 108.036058 47.832014 \nL 108.036058 47.753245 \nL 108.538723 47.674475 \nL 108.538723 47.63509 \nL 109.292721 47.55632 \nL 109.292721 47.47755 \nL 110.046718 47.398781 \nL 110.046718 47.359396 \nL 110.675049 47.359396 \nL 110.675049 47.201856 \nL 111.680379 47.123087 \nL 111.680379 47.004932 \nL 112.560043 46.926162 \nL 112.560043 46.847392 \nL 113.439707 46.768623 \nL 113.439707 46.729238 \nL 113.942372 46.689853 \nL 113.942372 46.571698 \nL 115.450367 46.492928 \nL 115.450367 46.453544 \nL 116.832695 46.374774 \nL 116.832695 46.177849 \nL 118.717689 46.09908 \nL 118.717689 46.059695 \nL 120.225684 45.980925 \nL 120.225684 45.94154 \nL 121.985011 45.902155 \nL 121.985011 45.823385 \nL 122.236344 45.823385 \nL 122.739009 45.705231 \nL 124.498336 45.626461 \nL 124.498336 45.547691 \nL 127.514326 45.508306 \nL 127.514326 45.390152 \nL 129.776318 45.311382 \nL 129.776318 45.271997 \nL 132.038311 45.193227 \nL 132.038311 45.153842 \nL 134.551635 45.075073 \nL 134.551635 44.996303 \nL 136.939294 44.917533 \nL 136.939294 44.878148 \nL 138.07029 44.799378 \nL 138.07029 44.759994 \nL 139.326953 44.681224 \nL 139.326953 44.641839 \nL 141.08628 44.563069 \nL 141.08628 44.523684 \nL 142.09161 44.444915 \nL 142.09161 44.40553 \nL 144.981933 44.32676 \nL 144.981933 44.24799 \nL 145.484598 44.16922 \nL 145.484598 44.129835 \nL 147.620924 44.051066 \nL 147.620924 44.011681 \nL 149.380252 43.972296 \nL 149.380252 43.893526 \nL 152.396242 43.814756 \nL 152.396242 43.775372 \nL 153.275905 43.696602 \nL 153.275905 43.657217 \nL 155.286565 43.578447 \nL 155.286565 43.499677 \nL 155.914896 43.420908 \nL 155.914896 43.381523 \nL 157.422891 43.342138 \nL 157.422891 43.223983 \nL 159.936216 43.145213 \nL 159.936216 43.105828 \nL 162.575207 43.027059 \nL 162.700873 42.987674 \nL 164.334535 42.908904 \nL 164.334535 42.869519 \nL 165.214198 42.869519 \nL 165.716863 42.396901 \nL 168.230188 42.318131 \nL 168.230188 42.278746 \nL 170.617847 42.199976 \nL 170.617847 42.160591 \nL 172.628506 42.081822 \nL 172.628506 42.042437 \nL 173.633836 42.003052 \nL 173.633836 41.963667 \nL 173.759503 41.924282 \nL 175.51883 41.924282 \nL 176.398494 41.412279 \nL 179.037485 41.333509 \nL 179.037485 41.294124 \nL 180.042815 41.215354 \nL 180.042815 41.175969 \nL 181.173811 41.136584 \nL 181.173811 41.097199 \nL 181.173811 41.01843 \nL 182.933138 40.979045 \nL 182.933138 40.93966 \nL 183.435803 40.821505 \nL 186.703125 40.742736 \nL 186.703125 40.703351 \nL 188.462453 40.624581 \nL 188.462453 40.585196 \nL 192.106774 40.506426 \nL 192.106774 40.467041 \nL 193.489102 40.388272 \nL 193.489102 40.348887 \nL 196.505092 40.270117 \nL 196.505092 40.230732 \nL 197.636088 40.151962 \nL 197.636088 40.112577 \nL 200.149413 40.033808 \nL 200.149413 39.994423 \nL 202.160073 39.915653 \nL 202.160073 39.876268 \nL 203.542402 39.797498 \nL 203.542402 39.718729 \nL 205.553062 39.639959 \nL 205.553062 39.600574 \nL 207.438055 39.521804 \nL 207.438055 39.482419 \nL 207.94072 39.403649 \nL 207.94072 39.364265 \nL 212.339039 39.285495 \nL 212.339039 39.206725 \nL 214.098366 39.127955 \nL 214.098366 39.08857 \nL 214.852364 39.049186 \nL 214.852364 38.891646 \nL 216.611691 38.852261 \nL 216.863023 38.694722 \nL 217.868353 38.655337 \nL 217.868353 38.576567 \nL 219.502014 38.497797 \nL 219.502014 38.458412 \nL 221.764007 38.379643 \nL 221.764007 38.340258 \nL 223.020669 38.261488 \nL 223.397668 38.182718 \nL 223.900333 38.182718 \nL 223.900333 38.103948 \nL 225.031329 37.867639 \nL 226.162325 37.828254 \nL 226.413658 37.63133 \nL 230.057979 37.55256 \nL 232.445637 37.47379 \nL 235.461627 37.39502 \nL 244.760929 37.001172 \nL 248.530916 36.922402 \nL 248.530916 36.883017 \nL 249.661912 36.843632 \nL 249.661912 36.764862 \nL 250.164577 36.725477 \nL 250.164577 36.686093 \nL 250.290244 36.646708 \nL 251.295573 36.567938 \nL 255.442559 36.567938 \nL 255.442559 36.449783 \nL 255.568226 36.410398 \nL 259.463879 36.331629 \nL 259.463879 36.292244 \nL 262.605535 36.252859 \nL 262.605535 36.174089 \nL 268.386182 36.095319 \nL 268.386182 36.055934 \nL 275.800491 35.977165 \nL 275.800491 35.93778 \nL 278.439482 35.85901 \nL 278.439482 35.819625 \nL 290.503441 35.740855 \nL 292.011436 35.701471 \nL 301.939069 35.622701 \nL 304.326727 35.504546 \nL 316.26502 35.425776 \nL 316.26502 35.386391 \nL 343.283262 35.307622 \nL 343.283262 35.268237 \nL 348.68691 35.189467 \nL 348.68691 35.150082 \nL 358.111879 35.071312 \nL 358.111879 35.031927 \nL 363.641193 34.992543 \nL 363.641193 34.992543 \n\" style=\"fill:none;stroke:#1f77b4;stroke-linecap:square;stroke-width:1.5;\"/>\n   </g>\n   <g id=\"patch_3\">\n    <path d=\"M 44.059375 242.548906 \nL 44.059375 25.108906 \n\" style=\"fill:none;stroke:#000000;stroke-linecap:square;stroke-linejoin:miter;stroke-width:0.8;\"/>\n   </g>\n   <g id=\"patch_4\">\n    <path d=\"M 378.859375 242.548906 \nL 378.859375 25.108906 \n\" style=\"fill:none;stroke:#000000;stroke-linecap:square;stroke-linejoin:miter;stroke-width:0.8;\"/>\n   </g>\n   <g id=\"patch_5\">\n    <path d=\"M 44.059375 242.548906 \nL 378.859375 242.548906 \n\" style=\"fill:none;stroke:#000000;stroke-linecap:square;stroke-linejoin:miter;stroke-width:0.8;\"/>\n   </g>\n   <g id=\"patch_6\">\n    <path d=\"M 44.059375 25.108906 \nL 378.859375 25.108906 \n\" style=\"fill:none;stroke:#000000;stroke-linecap:square;stroke-linejoin:miter;stroke-width:0.8;\"/>\n   </g>\n   <g id=\"legend_1\">\n    <g id=\"patch_7\">\n     <path d=\"M 250.5625 237.548906 \nL 371.859375 237.548906 \nQ 373.859375 237.548906 373.859375 235.548906 \nL 373.859375 221.870781 \nQ 373.859375 219.870781 371.859375 219.870781 \nL 250.5625 219.870781 \nQ 248.5625 219.870781 248.5625 221.870781 \nL 248.5625 235.548906 \nQ 248.5625 237.548906 250.5625 237.548906 \nz\n\" style=\"fill:#ffffff;opacity:0.8;stroke:#cccccc;stroke-linejoin:miter;\"/>\n    </g>\n    <g id=\"line2d_14\">\n     <path d=\"M 252.5625 227.969219 \nL 272.5625 227.969219 \n\" style=\"fill:none;stroke:#1f77b4;stroke-linecap:square;stroke-width:1.5;\"/>\n    </g>\n    <g id=\"line2d_15\"/>\n    <g id=\"text_15\">\n     <!-- SVC (AUC = 0.95) -->\n     <g transform=\"translate(280.5625 231.469219)scale(0.1 -0.1)\">\n      <defs>\n       <path d=\"M 28.609375 0 \nL 0.78125 72.90625 \nL 11.078125 72.90625 \nL 34.1875 11.53125 \nL 57.328125 72.90625 \nL 67.578125 72.90625 \nL 39.796875 0 \nz\n\" id=\"DejaVuSans-86\"/>\n       <path d=\"M 64.40625 67.28125 \nL 64.40625 56.890625 \nQ 59.421875 61.53125 53.78125 63.8125 \nQ 48.140625 66.109375 41.796875 66.109375 \nQ 29.296875 66.109375 22.65625 58.46875 \nQ 16.015625 50.828125 16.015625 36.375 \nQ 16.015625 21.96875 22.65625 14.328125 \nQ 29.296875 6.6875 41.796875 6.6875 \nQ 48.140625 6.6875 53.78125 8.984375 \nQ 59.421875 11.28125 64.40625 15.921875 \nL 64.40625 5.609375 \nQ 59.234375 2.09375 53.4375 0.328125 \nQ 47.65625 -1.421875 41.21875 -1.421875 \nQ 24.65625 -1.421875 15.125 8.703125 \nQ 5.609375 18.84375 5.609375 36.375 \nQ 5.609375 53.953125 15.125 64.078125 \nQ 24.65625 74.21875 41.21875 74.21875 \nQ 47.75 74.21875 53.53125 72.484375 \nQ 59.328125 70.75 64.40625 67.28125 \nz\n\" id=\"DejaVuSans-67\"/>\n       <path d=\"M 8.6875 72.90625 \nL 18.609375 72.90625 \nL 18.609375 28.609375 \nQ 18.609375 16.890625 22.84375 11.734375 \nQ 27.09375 6.59375 36.625 6.59375 \nQ 46.09375 6.59375 50.34375 11.734375 \nQ 54.59375 16.890625 54.59375 28.609375 \nL 54.59375 72.90625 \nL 64.5 72.90625 \nL 64.5 27.390625 \nQ 64.5 13.140625 57.4375 5.859375 \nQ 50.390625 -1.421875 36.625 -1.421875 \nQ 22.796875 -1.421875 15.734375 5.859375 \nQ 8.6875 13.140625 8.6875 27.390625 \nz\n\" id=\"DejaVuSans-85\"/>\n       <path d=\"M 10.59375 45.40625 \nL 73.1875 45.40625 \nL 73.1875 37.203125 \nL 10.59375 37.203125 \nz\nM 10.59375 25.484375 \nL 73.1875 25.484375 \nL 73.1875 17.1875 \nL 10.59375 17.1875 \nz\n\" id=\"DejaVuSans-61\"/>\n       <path d=\"M 10.984375 1.515625 \nL 10.984375 10.5 \nQ 14.703125 8.734375 18.5 7.8125 \nQ 22.3125 6.890625 25.984375 6.890625 \nQ 35.75 6.890625 40.890625 13.453125 \nQ 46.046875 20.015625 46.78125 33.40625 \nQ 43.953125 29.203125 39.59375 26.953125 \nQ 35.25 24.703125 29.984375 24.703125 \nQ 19.046875 24.703125 12.671875 31.3125 \nQ 6.296875 37.9375 6.296875 49.421875 \nQ 6.296875 60.640625 12.9375 67.421875 \nQ 19.578125 74.21875 30.609375 74.21875 \nQ 43.265625 74.21875 49.921875 64.515625 \nQ 56.59375 54.828125 56.59375 36.375 \nQ 56.59375 19.140625 48.40625 8.859375 \nQ 40.234375 -1.421875 26.421875 -1.421875 \nQ 22.703125 -1.421875 18.890625 -0.6875 \nQ 15.09375 0.046875 10.984375 1.515625 \nz\nM 30.609375 32.421875 \nQ 37.25 32.421875 41.125 36.953125 \nQ 45.015625 41.5 45.015625 49.421875 \nQ 45.015625 57.28125 41.125 61.84375 \nQ 37.25 66.40625 30.609375 66.40625 \nQ 23.96875 66.40625 20.09375 61.84375 \nQ 16.21875 57.28125 16.21875 49.421875 \nQ 16.21875 41.5 20.09375 36.953125 \nQ 23.96875 32.421875 30.609375 32.421875 \nz\n\" id=\"DejaVuSans-57\"/>\n       <path d=\"M 10.796875 72.90625 \nL 49.515625 72.90625 \nL 49.515625 64.59375 \nL 19.828125 64.59375 \nL 19.828125 46.734375 \nQ 21.96875 47.46875 24.109375 47.828125 \nQ 26.265625 48.1875 28.421875 48.1875 \nQ 40.625 48.1875 47.75 41.5 \nQ 54.890625 34.8125 54.890625 23.390625 \nQ 54.890625 11.625 47.5625 5.09375 \nQ 40.234375 -1.421875 26.90625 -1.421875 \nQ 22.3125 -1.421875 17.546875 -0.640625 \nQ 12.796875 0.140625 7.71875 1.703125 \nL 7.71875 11.625 \nQ 12.109375 9.234375 16.796875 8.0625 \nQ 21.484375 6.890625 26.703125 6.890625 \nQ 35.15625 6.890625 40.078125 11.328125 \nQ 45.015625 15.765625 45.015625 23.390625 \nQ 45.015625 31 40.078125 35.4375 \nQ 35.15625 39.890625 26.703125 39.890625 \nQ 22.75 39.890625 18.8125 39.015625 \nQ 14.890625 38.140625 10.796875 36.28125 \nz\n\" id=\"DejaVuSans-53\"/>\n      </defs>\n      <use xlink:href=\"#DejaVuSans-83\"/>\n      <use x=\"63.476562\" xlink:href=\"#DejaVuSans-86\"/>\n      <use x=\"131.884766\" xlink:href=\"#DejaVuSans-67\"/>\n      <use x=\"201.708984\" xlink:href=\"#DejaVuSans-32\"/>\n      <use x=\"233.496094\" xlink:href=\"#DejaVuSans-40\"/>\n      <use x=\"272.509766\" xlink:href=\"#DejaVuSans-65\"/>\n      <use x=\"340.917969\" xlink:href=\"#DejaVuSans-85\"/>\n      <use x=\"414.111328\" xlink:href=\"#DejaVuSans-67\"/>\n      <use x=\"483.935547\" xlink:href=\"#DejaVuSans-32\"/>\n      <use x=\"515.722656\" xlink:href=\"#DejaVuSans-61\"/>\n      <use x=\"599.511719\" xlink:href=\"#DejaVuSans-32\"/>\n      <use x=\"631.298828\" xlink:href=\"#DejaVuSans-48\"/>\n      <use x=\"694.921875\" xlink:href=\"#DejaVuSans-46\"/>\n      <use x=\"726.708984\" xlink:href=\"#DejaVuSans-57\"/>\n      <use x=\"790.332031\" xlink:href=\"#DejaVuSans-53\"/>\n      <use x=\"853.955078\" xlink:href=\"#DejaVuSans-41\"/>\n     </g>\n    </g>\n   </g>\n  </g>\n </g>\n <defs>\n  <clipPath id=\"p232a15fdad\">\n   <rect height=\"217.44\" width=\"334.8\" x=\"44.059375\" y=\"25.108906\"/>\n  </clipPath>\n </defs>\n</svg>\n",
      "image/png": "[encoded data removed]"
     },
     "metadata": {
      "needs_background": "light"
     }
    }
   ],
   "source": [
    "from sklearn.metrics import plot_roc_curve\n",
    "import matplotlib.pyplot as plt  \n",
    "a = plot_roc_curve(SVC_classifier, X_test, y_test, name = 'SVC')\n",
    "#b = plot_roc_curve(classifier, X_test, y_test, name = 'GaussianNB',ax=a.ax_)\n",
    "plt.show()"
   ]
  },
  {
   "cell_type": "code",
   "execution_count": 30,
   "metadata": {},
   "outputs": [
    {
     "data": {
      "image/png": "[encoded data removed]",
      "text/plain": [
       "<Figure size 640x480 with 1 Axes>"
      ]
     },
     "metadata": {},
     "output_type": "display_data"
    },
    {
     "data": {
      "image/png": "[encoded data removed]",
      "text/plain": [
       "<Figure size 640x480 with 1 Axes>"
      ]
     },
     "metadata": {},
     "output_type": "display_data"
    }
   ],
   "source": [
    "plot_roc_curve(SVC_classifier, X_test, y_test, name = 'SVC')\n",
    "plt.show()"
   ]
  },
  {
   "cell_type": "code",
   "execution_count": 31,
   "metadata": {},
   "outputs": [],
   "source": [
    "import pickle\n",
    "\n",
    "with open(\"binary_classifier.pkl\",\"wb\") as model:\n",
    "    pickle.dump(SVC_classifier,model)\n"
   ]
  },
  {
   "cell_type": "code",
   "execution_count": 111,
   "metadata": {},
   "outputs": [
    {
     "data": {
      "text/plain": [
       "['classifier.joblib']"
      ]
     },
     "execution_count": 111,
     "metadata": {},
     "output_type": "execute_result"
    }
   ],
   "source": [
    "from joblib import dump, load\n",
    "dump(cv, 'cv.joblib')\n",
    "dump(classifier, 'classifier.joblib') "
   ]
  },
  {
   "cell_type": "code",
   "execution_count": 112,
   "metadata": {},
   "outputs": [
    {
     "data": {
      "text/plain": [
       "array(['NON DISASTER_', 'DISASTER_', 'DISASTER_', ..., 'DISASTER_',\n",
       "       'DISASTER_', 'DISASTER_'], dtype='<U13')"
      ]
     },
     "execution_count": 112,
     "metadata": {},
     "output_type": "execute_result"
    }
   ],
   "source": [
    "## Testing the model on test set\n",
    "y_pred = classifier.predict(X_test)\n",
    "y_pred"
   ]
  },
  {
   "cell_type": "code",
   "execution_count": 124,
   "metadata": {},
   "outputs": [
    {
     "name": "stdout",
     "output_type": "stream",
     "text": [
      "  Confusion matrix : \n",
      " [[2330  172]\n",
      " [2064 3035]]\n",
      "The model accuracy is 0.7058281805025655\n"
     ]
    }
   ],
   "source": [
    "from sklearn.metrics import confusion_matrix, accuracy_score\n",
    "accuracy = accuracy_score(y_test, y_pred)\n",
    "cm = confusion_matrix(y_test, y_pred)\n",
    "print('  Confusion matrix : \\n', cm)\n",
    "print(\"The model accuracy is\", accuracy )"
   ]
  },
  {
   "cell_type": "code",
   "execution_count": 2,
   "metadata": {},
   "outputs": [],
   "source": [
    "from jupyterthemes import jtplot\n",
    "\n",
    "# choose which theme to inherit plotting style from\n",
    "# onedork | grade3 | oceans16 | chesterish | monokai | solarizedl | solarizedd\n",
    "jtplot.reset()"
   ]
  },
  {
   "cell_type": "code",
   "execution_count": 33,
   "metadata": {},
   "outputs": [
    {
     "data": {
      "image/png": "[encoded data removed]",
      "text/plain": [
       "<Figure size 640x480 with 2 Axes>"
      ]
     },
     "metadata": {},
     "output_type": "display_data"
    }
   ],
   "source": [
    "from sklearn.metrics import plot_confusion_matrix\n",
    "from matplotlib import pyplot\n",
    "disp = plot_confusion_matrix(classifier, X_test, y_test,\n",
    "                             cmap=plt.cm.Greys,\n",
    "                             display_labels=['disaster','non-disaster'],\n",
    "                                 normalize=None)\n",
    "plt.show()"
   ]
  },
  {
   "cell_type": "code",
   "execution_count": 37,
   "metadata": {},
   "outputs": [],
   "source": [
    "y_pred_SVC_train = SVC_classifier.predict(X_train)"
   ]
  },
  {
   "cell_type": "code",
   "execution_count": 42,
   "metadata": {},
   "outputs": [
    {
     "name": "stdout",
     "output_type": "stream",
     "text": [
      "precision test 0.8611002731174405\n",
      "recall test 0.8740594059405941\n",
      "accuracy test 0.911327456913564\n",
      "precision train 0.8968923844235565\n",
      "recall train 0.9216439976345357\n",
      "accuracy train 0.9384888654978455\n"
     ]
    }
   ],
   "source": [
    "from sklearn.metrics import precision_score, recall_score,accuracy_score\n",
    "print(\"precision test\",precision_score(y_test,y_pred_SVC,pos_label='DISASTER_'))\n",
    "print(\"recall test\",recall_score(y_test,y_pred_SVC,pos_label='DISASTER_'))\n",
    "print(\"accuracy test\",accuracy_score(y_test,y_pred_SVC))\n",
    "print(\"precision train\",precision_score(y_train,y_pred_SVC_train,pos_label='DISASTER_'))\n",
    "print(\"recall train\",recall_score(y_train,y_pred_SVC_train,pos_label='DISASTER_'))\n",
    "print(\"accuracy train\",accuracy_score(y_train,y_pred_SVC_train))"
   ]
  },
  {
   "cell_type": "code",
   "execution_count": 32,
   "metadata": {},
   "outputs": [
    {
     "data": {
      "image/png": "[encoded data removed]",
      "text/plain": [
       "<Figure size 640x480 with 2 Axes>"
      ]
     },
     "metadata": {},
     "output_type": "display_data"
    },
    {
     "data": {
      "image/png": "[encoded data removed]",
      "text/plain": [
       "<Figure size 640x480 with 2 Axes>"
      ]
     },
     "metadata": {},
     "output_type": "display_data"
    }
   ],
   "source": [
    "disp = plot_confusion_matrix(SVC_classifier, X_test, y_test,\n",
    "                             cmap=plt.cm.Greys,\n",
    "                             display_labels=['disaster','non-disaster'],\n",
    "                                 normalize=None)\n",
    "plt.show()"
   ]
  },
  {
   "cell_type": "code",
   "execution_count": 125,
   "metadata": {},
   "outputs": [
    {
     "name": "stdout",
     "output_type": "stream",
     "text": [
      "  Confusion matrix : \n",
      " [[2167  335]\n",
      " [ 400 4699]]\n",
      "The model accuracy is 0.9033021970793317\n"
     ]
    }
   ],
   "source": [
    "accuracy = accuracy_score(y_test, y_pred_SVC)\n",
    "cm = confusion_matrix(y_test, y_pred_SVC)\n",
    "print('  Confusion matrix : \\n', cm)\n",
    "print(\"The model accuracy is\", accuracy )"
   ]
  },
  {
   "cell_type": "code",
   "execution_count": 114,
   "metadata": {},
   "outputs": [],
   "source": [
    "def predict(test_reviews):\n",
    "    if isinstance(test_reviews,str):\n",
    "        test_review = test_reviews\n",
    "        test_review = test_sent(test_review)\n",
    "        test_input_array = cv.transform([test_review]).toarray()\n",
    "        test_input_array = np.transpose(test_input_array)\n",
    "        test_input_array = test_input_array[:,0]\n",
    "        res = classifier.predict([test_input_array])\n",
    "        return res[0]\n",
    "    elif isinstance(test_reviews,list):\n",
    "        result=[]\n",
    "        for test_review in test_reviews:\n",
    "            test_review = test_sent(test_review)\n",
    "            test_input_array = cv.transform([test_review]).toarray()\n",
    "            test_input_array = np.transpose(test_input_array)\n",
    "            test_input_array = test_input_array[:,0]\n",
    "            res = classifier.predict([test_input_array])\n",
    "            result.append(res[0])\n",
    "        return result\n",
    "    print('Please provide a string or a list.')"
   ]
  },
  {
   "cell_type": "code",
   "execution_count": 115,
   "metadata": {},
   "outputs": [
    {
     "data": {
      "text/plain": [
       "['DISASTER_', 'NON DISASTER_']"
      ]
     },
     "execution_count": 115,
     "metadata": {},
     "output_type": "execute_result"
    }
   ],
   "source": [
    "test = [\"5 man died at airplane crash yestarday\",\"4 people went to justin bieber concert\"]\n",
    "predict(test)"
   ]
  },
  {
   "cell_type": "code",
   "execution_count": 116,
   "metadata": {},
   "outputs": [
    {
     "data": {
      "text/plain": [
       "'DISASTER_'"
      ]
     },
     "execution_count": 116,
     "metadata": {},
     "output_type": "execute_result"
    }
   ],
   "source": [
    "test = \"a man did nothing\"\n",
    "predict(test)"
   ]
  },
  {
   "cell_type": "code",
   "execution_count": 117,
   "metadata": {},
   "outputs": [
    {
     "data": {
      "text/html": [
       "<div>\n",
       "<style scoped>\n",
       "    .dataframe tbody tr th:only-of-type {\n",
       "        vertical-align: middle;\n",
       "    }\n",
       "\n",
       "    .dataframe tbody tr th {\n",
       "        vertical-align: top;\n",
       "    }\n",
       "\n",
       "    .dataframe thead th {\n",
       "        text-align: right;\n",
       "    }\n",
       "</style>\n",
       "<table border=\"1\" class=\"dataframe\">\n",
       "  <thead>\n",
       "    <tr style=\"text-align: right;\">\n",
       "      <th></th>\n",
       "      <th>title</th>\n",
       "      <th>label</th>\n",
       "    </tr>\n",
       "  </thead>\n",
       "  <tbody>\n",
       "    <tr>\n",
       "      <th>54210</th>\n",
       "      <td>Nun in iconic Italian earthquake photo sent ad...</td>\n",
       "      <td>DISASTER_</td>\n",
       "    </tr>\n",
       "    <tr>\n",
       "      <th>414726</th>\n",
       "      <td>Yosemite Virus: 10,000 At Risk Of Hantavirus F...</td>\n",
       "      <td>NON DISASTER_</td>\n",
       "    </tr>\n",
       "    <tr>\n",
       "      <th>385916</th>\n",
       "      <td>Kanye West, APC Collaboration Is Officially Ha...</td>\n",
       "      <td>NON DISASTER_</td>\n",
       "    </tr>\n",
       "    <tr>\n",
       "      <th>120698</th>\n",
       "      <td>Senator McConnell speaks on flooding in Kentucky</td>\n",
       "      <td>DISASTER_</td>\n",
       "    </tr>\n",
       "    <tr>\n",
       "      <th>273257</th>\n",
       "      <td>Oscar-Nominated Iranian Director Asghar Farhad...</td>\n",
       "      <td>NON DISASTER_</td>\n",
       "    </tr>\n",
       "    <tr>\n",
       "      <th>39759</th>\n",
       "      <td>Victims Buried As Search For Albania Quake Sur...</td>\n",
       "      <td>DISASTER_</td>\n",
       "    </tr>\n",
       "    <tr>\n",
       "      <th>10204</th>\n",
       "      <td>Two hospitalised after light plane crashes one...</td>\n",
       "      <td>DISASTER_</td>\n",
       "    </tr>\n",
       "    <tr>\n",
       "      <th>399774</th>\n",
       "      <td>Last Man On The Moon, Eugene Cernan, Calls Spa...</td>\n",
       "      <td>NON DISASTER_</td>\n",
       "    </tr>\n",
       "    <tr>\n",
       "      <th>188894</th>\n",
       "      <td>AccuWeather: Warm And Humid, T'Storm</td>\n",
       "      <td>DISASTER_</td>\n",
       "    </tr>\n",
       "    <tr>\n",
       "      <th>381397</th>\n",
       "      <td>2013 VMAs Bring MTV's Party To Brooklyn (LIVE ...</td>\n",
       "      <td>NON DISASTER_</td>\n",
       "    </tr>\n",
       "  </tbody>\n",
       "</table>\n",
       "</div>"
      ],
      "text/plain": [
       "                                                    title          label\n",
       "54210   Nun in iconic Italian earthquake photo sent ad...      DISASTER_\n",
       "414726  Yosemite Virus: 10,000 At Risk Of Hantavirus F...  NON DISASTER_\n",
       "385916  Kanye West, APC Collaboration Is Officially Ha...  NON DISASTER_\n",
       "120698   Senator McConnell speaks on flooding in Kentucky      DISASTER_\n",
       "273257  Oscar-Nominated Iranian Director Asghar Farhad...  NON DISASTER_\n",
       "39759   Victims Buried As Search For Albania Quake Sur...      DISASTER_\n",
       "10204   Two hospitalised after light plane crashes one...      DISASTER_\n",
       "399774  Last Man On The Moon, Eugene Cernan, Calls Spa...  NON DISASTER_\n",
       "188894               AccuWeather: Warm And Humid, T'Storm      DISASTER_\n",
       "381397  2013 VMAs Bring MTV's Party To Brooklyn (LIVE ...  NON DISASTER_"
      ]
     },
     "execution_count": 117,
     "metadata": {},
     "output_type": "execute_result"
    }
   ],
   "source": [
    "df = pd.read_csv('all-news.csv').sample(100)\n",
    "df.head(10)"
   ]
  },
  {
   "cell_type": "code",
   "execution_count": 118,
   "metadata": {},
   "outputs": [],
   "source": [
    "df[\"predicted\"] = predict(list(df[\"title\"]))"
   ]
  },
  {
   "cell_type": "code",
   "execution_count": 119,
   "metadata": {},
   "outputs": [
    {
     "data": {
      "text/html": [
       "<div>\n",
       "<style scoped>\n",
       "    .dataframe tbody tr th:only-of-type {\n",
       "        vertical-align: middle;\n",
       "    }\n",
       "\n",
       "    .dataframe tbody tr th {\n",
       "        vertical-align: top;\n",
       "    }\n",
       "\n",
       "    .dataframe thead th {\n",
       "        text-align: right;\n",
       "    }\n",
       "</style>\n",
       "<table border=\"1\" class=\"dataframe\">\n",
       "  <thead>\n",
       "    <tr style=\"text-align: right;\">\n",
       "      <th></th>\n",
       "      <th>title</th>\n",
       "      <th>label</th>\n",
       "      <th>predicted</th>\n",
       "    </tr>\n",
       "  </thead>\n",
       "  <tbody>\n",
       "    <tr>\n",
       "      <th>54210</th>\n",
       "      <td>Nun in iconic Italian earthquake photo sent ad...</td>\n",
       "      <td>DISASTER_</td>\n",
       "      <td>DISASTER_</td>\n",
       "    </tr>\n",
       "    <tr>\n",
       "      <th>385916</th>\n",
       "      <td>Kanye West, APC Collaboration Is Officially Ha...</td>\n",
       "      <td>NON DISASTER_</td>\n",
       "      <td>NON DISASTER_</td>\n",
       "    </tr>\n",
       "    <tr>\n",
       "      <th>120698</th>\n",
       "      <td>Senator McConnell speaks on flooding in Kentucky</td>\n",
       "      <td>DISASTER_</td>\n",
       "      <td>DISASTER_</td>\n",
       "    </tr>\n",
       "    <tr>\n",
       "      <th>39759</th>\n",
       "      <td>Victims Buried As Search For Albania Quake Sur...</td>\n",
       "      <td>DISASTER_</td>\n",
       "      <td>DISASTER_</td>\n",
       "    </tr>\n",
       "    <tr>\n",
       "      <th>10204</th>\n",
       "      <td>Two hospitalised after light plane crashes one...</td>\n",
       "      <td>DISASTER_</td>\n",
       "      <td>DISASTER_</td>\n",
       "    </tr>\n",
       "    <tr>\n",
       "      <th>...</th>\n",
       "      <td>...</td>\n",
       "      <td>...</td>\n",
       "      <td>...</td>\n",
       "    </tr>\n",
       "    <tr>\n",
       "      <th>83942</th>\n",
       "      <td>One dead after explosion at Aliso Viejo office...</td>\n",
       "      <td>DISASTER_</td>\n",
       "      <td>DISASTER_</td>\n",
       "    </tr>\n",
       "    <tr>\n",
       "      <th>36503</th>\n",
       "      <td>Magnitude 6.8 quake strikes southern Sumatra, ...</td>\n",
       "      <td>DISASTER_</td>\n",
       "      <td>DISASTER_</td>\n",
       "    </tr>\n",
       "    <tr>\n",
       "      <th>174059</th>\n",
       "      <td>Burnout car dumped in Dudley Park</td>\n",
       "      <td>DISASTER_</td>\n",
       "      <td>DISASTER_</td>\n",
       "    </tr>\n",
       "    <tr>\n",
       "      <th>219028</th>\n",
       "      <td>Lightning punches 3x3 foot hole in runway at P...</td>\n",
       "      <td>DISASTER_</td>\n",
       "      <td>DISASTER_</td>\n",
       "    </tr>\n",
       "    <tr>\n",
       "      <th>155198</th>\n",
       "      <td>School bus driver charged in crash that killed...</td>\n",
       "      <td>DISASTER_</td>\n",
       "      <td>DISASTER_</td>\n",
       "    </tr>\n",
       "  </tbody>\n",
       "</table>\n",
       "<p>76 rows × 3 columns</p>\n",
       "</div>"
      ],
      "text/plain": [
       "                                                    title          label  \\\n",
       "54210   Nun in iconic Italian earthquake photo sent ad...      DISASTER_   \n",
       "385916  Kanye West, APC Collaboration Is Officially Ha...  NON DISASTER_   \n",
       "120698   Senator McConnell speaks on flooding in Kentucky      DISASTER_   \n",
       "39759   Victims Buried As Search For Albania Quake Sur...      DISASTER_   \n",
       "10204   Two hospitalised after light plane crashes one...      DISASTER_   \n",
       "...                                                   ...            ...   \n",
       "83942   One dead after explosion at Aliso Viejo office...      DISASTER_   \n",
       "36503   Magnitude 6.8 quake strikes southern Sumatra, ...      DISASTER_   \n",
       "174059                  Burnout car dumped in Dudley Park      DISASTER_   \n",
       "219028  Lightning punches 3x3 foot hole in runway at P...      DISASTER_   \n",
       "155198  School bus driver charged in crash that killed...      DISASTER_   \n",
       "\n",
       "            predicted  \n",
       "54210       DISASTER_  \n",
       "385916  NON DISASTER_  \n",
       "120698      DISASTER_  \n",
       "39759       DISASTER_  \n",
       "10204       DISASTER_  \n",
       "...               ...  \n",
       "83942       DISASTER_  \n",
       "36503       DISASTER_  \n",
       "174059      DISASTER_  \n",
       "219028      DISASTER_  \n",
       "155198      DISASTER_  \n",
       "\n",
       "[76 rows x 3 columns]"
      ]
     },
     "execution_count": 119,
     "metadata": {},
     "output_type": "execute_result"
    }
   ],
   "source": [
    "df[df[\"label\"] == df[\"predicted\"]]"
   ]
  },
  {
   "cell_type": "code",
   "execution_count": 120,
   "metadata": {},
   "outputs": [
    {
     "data": {
      "text/html": [
       "<div>\n",
       "<style scoped>\n",
       "    .dataframe tbody tr th:only-of-type {\n",
       "        vertical-align: middle;\n",
       "    }\n",
       "\n",
       "    .dataframe tbody tr th {\n",
       "        vertical-align: top;\n",
       "    }\n",
       "\n",
       "    .dataframe thead th {\n",
       "        text-align: right;\n",
       "    }\n",
       "</style>\n",
       "<table border=\"1\" class=\"dataframe\">\n",
       "  <thead>\n",
       "    <tr style=\"text-align: right;\">\n",
       "      <th></th>\n",
       "      <th>title</th>\n",
       "      <th>label</th>\n",
       "      <th>predicted</th>\n",
       "    </tr>\n",
       "  </thead>\n",
       "  <tbody>\n",
       "    <tr>\n",
       "      <th>414726</th>\n",
       "      <td>Yosemite Virus: 10,000 At Risk Of Hantavirus F...</td>\n",
       "      <td>NON DISASTER_</td>\n",
       "      <td>DISASTER_</td>\n",
       "    </tr>\n",
       "    <tr>\n",
       "      <th>273257</th>\n",
       "      <td>Oscar-Nominated Iranian Director Asghar Farhad...</td>\n",
       "      <td>NON DISASTER_</td>\n",
       "      <td>DISASTER_</td>\n",
       "    </tr>\n",
       "    <tr>\n",
       "      <th>399774</th>\n",
       "      <td>Last Man On The Moon, Eugene Cernan, Calls Spa...</td>\n",
       "      <td>NON DISASTER_</td>\n",
       "      <td>DISASTER_</td>\n",
       "    </tr>\n",
       "    <tr>\n",
       "      <th>151964</th>\n",
       "      <td>Mom Dies In Road Rage Incident While Giving He...</td>\n",
       "      <td>DISASTER_</td>\n",
       "      <td>NON DISASTER_</td>\n",
       "    </tr>\n",
       "    <tr>\n",
       "      <th>314334</th>\n",
       "      <td>The Ad Industry Is Finally Promising To Make O...</td>\n",
       "      <td>NON DISASTER_</td>\n",
       "      <td>DISASTER_</td>\n",
       "    </tr>\n",
       "    <tr>\n",
       "      <th>360280</th>\n",
       "      <td>Brighten Your Brunch Without the Fuss: Sunburs...</td>\n",
       "      <td>NON DISASTER_</td>\n",
       "      <td>DISASTER_</td>\n",
       "    </tr>\n",
       "    <tr>\n",
       "      <th>197836</th>\n",
       "      <td>Florida Candidates Change Plans Due To Michael</td>\n",
       "      <td>DISASTER_</td>\n",
       "      <td>NON DISASTER_</td>\n",
       "    </tr>\n",
       "    <tr>\n",
       "      <th>378683</th>\n",
       "      <td>Victoria's Secret Fashion Show Casting Is 'Qui...</td>\n",
       "      <td>NON DISASTER_</td>\n",
       "      <td>DISASTER_</td>\n",
       "    </tr>\n",
       "    <tr>\n",
       "      <th>114889</th>\n",
       "      <td>Box Office: 'Catching Fire,' 'Frozen' Making T...</td>\n",
       "      <td>DISASTER_</td>\n",
       "      <td>NON DISASTER_</td>\n",
       "    </tr>\n",
       "    <tr>\n",
       "      <th>264425</th>\n",
       "      <td>13 MLB Players Denounce Repression And Deaths ...</td>\n",
       "      <td>NON DISASTER_</td>\n",
       "      <td>DISASTER_</td>\n",
       "    </tr>\n",
       "    <tr>\n",
       "      <th>392697</th>\n",
       "      <td>Eve Ensler on Cancer, Her Body and 'The Body o...</td>\n",
       "      <td>NON DISASTER_</td>\n",
       "      <td>DISASTER_</td>\n",
       "    </tr>\n",
       "    <tr>\n",
       "      <th>366816</th>\n",
       "      <td>Mindful Listening to Enhance Leadership Perfor...</td>\n",
       "      <td>NON DISASTER_</td>\n",
       "      <td>DISASTER_</td>\n",
       "    </tr>\n",
       "    <tr>\n",
       "      <th>248671</th>\n",
       "      <td>'Death Becomes Her' Is About To Become A Broad...</td>\n",
       "      <td>NON DISASTER_</td>\n",
       "      <td>DISASTER_</td>\n",
       "    </tr>\n",
       "    <tr>\n",
       "      <th>335077</th>\n",
       "      <td>Outliving Ourselves: Long-Term Survivors of AI...</td>\n",
       "      <td>NON DISASTER_</td>\n",
       "      <td>DISASTER_</td>\n",
       "    </tr>\n",
       "    <tr>\n",
       "      <th>339681</th>\n",
       "      <td>Hanukkah's Lesson For Environmental Activists</td>\n",
       "      <td>NON DISASTER_</td>\n",
       "      <td>DISASTER_</td>\n",
       "    </tr>\n",
       "    <tr>\n",
       "      <th>283311</th>\n",
       "      <td>Chance The Rapper: Racism, Colorism Affect Fam...</td>\n",
       "      <td>NON DISASTER_</td>\n",
       "      <td>DISASTER_</td>\n",
       "    </tr>\n",
       "    <tr>\n",
       "      <th>253431</th>\n",
       "      <td>Las Vegas Shooter Had 50 Pounds Of An Explosiv...</td>\n",
       "      <td>NON DISASTER_</td>\n",
       "      <td>DISASTER_</td>\n",
       "    </tr>\n",
       "    <tr>\n",
       "      <th>279367</th>\n",
       "      <td>Thanksgiving: A Holiday of the Imagination</td>\n",
       "      <td>NON DISASTER_</td>\n",
       "      <td>DISASTER_</td>\n",
       "    </tr>\n",
       "    <tr>\n",
       "      <th>360710</th>\n",
       "      <td>Tax Identity Theft: Why Everyone Is Vulnerable</td>\n",
       "      <td>NON DISASTER_</td>\n",
       "      <td>DISASTER_</td>\n",
       "    </tr>\n",
       "    <tr>\n",
       "      <th>356361</th>\n",
       "      <td>VAWA Reauthorization</td>\n",
       "      <td>NON DISASTER_</td>\n",
       "      <td>DISASTER_</td>\n",
       "    </tr>\n",
       "    <tr>\n",
       "      <th>371793</th>\n",
       "      <td>Oops, I Ate the Whole Pie (and Other Tales of ...</td>\n",
       "      <td>NON DISASTER_</td>\n",
       "      <td>DISASTER_</td>\n",
       "    </tr>\n",
       "    <tr>\n",
       "      <th>308594</th>\n",
       "      <td>Wingsuited Model Soars Between Two Skyscrapers...</td>\n",
       "      <td>NON DISASTER_</td>\n",
       "      <td>DISASTER_</td>\n",
       "    </tr>\n",
       "    <tr>\n",
       "      <th>390403</th>\n",
       "      <td>Old Yeller</td>\n",
       "      <td>NON DISASTER_</td>\n",
       "      <td>DISASTER_</td>\n",
       "    </tr>\n",
       "    <tr>\n",
       "      <th>353278</th>\n",
       "      <td>The Cup Overfloweth</td>\n",
       "      <td>NON DISASTER_</td>\n",
       "      <td>DISASTER_</td>\n",
       "    </tr>\n",
       "  </tbody>\n",
       "</table>\n",
       "</div>"
      ],
      "text/plain": [
       "                                                    title          label  \\\n",
       "414726  Yosemite Virus: 10,000 At Risk Of Hantavirus F...  NON DISASTER_   \n",
       "273257  Oscar-Nominated Iranian Director Asghar Farhad...  NON DISASTER_   \n",
       "399774  Last Man On The Moon, Eugene Cernan, Calls Spa...  NON DISASTER_   \n",
       "151964  Mom Dies In Road Rage Incident While Giving He...      DISASTER_   \n",
       "314334  The Ad Industry Is Finally Promising To Make O...  NON DISASTER_   \n",
       "360280  Brighten Your Brunch Without the Fuss: Sunburs...  NON DISASTER_   \n",
       "197836     Florida Candidates Change Plans Due To Michael      DISASTER_   \n",
       "378683  Victoria's Secret Fashion Show Casting Is 'Qui...  NON DISASTER_   \n",
       "114889  Box Office: 'Catching Fire,' 'Frozen' Making T...      DISASTER_   \n",
       "264425  13 MLB Players Denounce Repression And Deaths ...  NON DISASTER_   \n",
       "392697  Eve Ensler on Cancer, Her Body and 'The Body o...  NON DISASTER_   \n",
       "366816  Mindful Listening to Enhance Leadership Perfor...  NON DISASTER_   \n",
       "248671  'Death Becomes Her' Is About To Become A Broad...  NON DISASTER_   \n",
       "335077  Outliving Ourselves: Long-Term Survivors of AI...  NON DISASTER_   \n",
       "339681      Hanukkah's Lesson For Environmental Activists  NON DISASTER_   \n",
       "283311  Chance The Rapper: Racism, Colorism Affect Fam...  NON DISASTER_   \n",
       "253431  Las Vegas Shooter Had 50 Pounds Of An Explosiv...  NON DISASTER_   \n",
       "279367         Thanksgiving: A Holiday of the Imagination  NON DISASTER_   \n",
       "360710     Tax Identity Theft: Why Everyone Is Vulnerable  NON DISASTER_   \n",
       "356361                               VAWA Reauthorization  NON DISASTER_   \n",
       "371793  Oops, I Ate the Whole Pie (and Other Tales of ...  NON DISASTER_   \n",
       "308594  Wingsuited Model Soars Between Two Skyscrapers...  NON DISASTER_   \n",
       "390403                                         Old Yeller  NON DISASTER_   \n",
       "353278                                The Cup Overfloweth  NON DISASTER_   \n",
       "\n",
       "            predicted  \n",
       "414726      DISASTER_  \n",
       "273257      DISASTER_  \n",
       "399774      DISASTER_  \n",
       "151964  NON DISASTER_  \n",
       "314334      DISASTER_  \n",
       "360280      DISASTER_  \n",
       "197836  NON DISASTER_  \n",
       "378683      DISASTER_  \n",
       "114889  NON DISASTER_  \n",
       "264425      DISASTER_  \n",
       "392697      DISASTER_  \n",
       "366816      DISASTER_  \n",
       "248671      DISASTER_  \n",
       "335077      DISASTER_  \n",
       "339681      DISASTER_  \n",
       "283311      DISASTER_  \n",
       "253431      DISASTER_  \n",
       "279367      DISASTER_  \n",
       "360710      DISASTER_  \n",
       "356361      DISASTER_  \n",
       "371793      DISASTER_  \n",
       "308594      DISASTER_  \n",
       "390403      DISASTER_  \n",
       "353278      DISASTER_  "
      ]
     },
     "execution_count": 120,
     "metadata": {},
     "output_type": "execute_result"
    }
   ],
   "source": [
    "df[df[\"label\"] != df[\"predicted\"]]"
   ]
  },
  {
   "cell_type": "code",
   "execution_count": 167,
   "metadata": {},
   "outputs": [],
   "source": [
    "new_df = pd.read_csv('../../Desktop/dataset_labelled.csv')[[\"text\",\"category\"]]"
   ]
  },
  {
   "cell_type": "code",
   "execution_count": 168,
   "metadata": {},
   "outputs": [
    {
     "data": {
      "text/plain": [
       "non-disaster             5162\n",
       "disaster-irrelevant      1425\n",
       "not sure                 1336\n",
       "storm                    1278\n",
       "earthquake               1233\n",
       "road_accident            1214\n",
       "fire_and_explosion       1207\n",
       "air_accident             1195\n",
       "flood                    1059\n",
       "wildfire                 1032\n",
       "landslide                1026\n",
       "epidemic                  875\n",
       "avalanche                 655\n",
       "rainfall                  647\n",
       "drought                   618\n",
       "extreme_temperature       326\n",
       "thunder_and_lightning     306\n",
       "Name: category, dtype: int64"
      ]
     },
     "execution_count": 168,
     "metadata": {},
     "output_type": "execute_result"
    }
   ],
   "source": [
    "new_df.category.value_counts()"
   ]
  },
  {
   "cell_type": "code",
   "execution_count": 169,
   "metadata": {},
   "outputs": [],
   "source": [
    "def func(s):\n",
    "    if s in ['non-disaster','disaster-irrelevant']:\n",
    "        return 'NON DISASTER_'\n",
    "    elif s in ['not sure']:\n",
    "        return 'NONE'\n",
    "    else:\n",
    "        return 'DISASTER_'"
   ]
  },
  {
   "cell_type": "code",
   "execution_count": 170,
   "metadata": {},
   "outputs": [],
   "source": [
    "new_df['label'] = new_df.category.apply(func)"
   ]
  },
  {
   "cell_type": "code",
   "execution_count": 171,
   "metadata": {},
   "outputs": [
    {
     "data": {
      "text/plain": [
       "DISASTER_        12671\n",
       "NON DISASTER_     6587\n",
       "NONE              1336\n",
       "Name: label, dtype: int64"
      ]
     },
     "execution_count": 171,
     "metadata": {},
     "output_type": "execute_result"
    }
   ],
   "source": [
    "new_df.label.value_counts()"
   ]
  },
  {
   "cell_type": "code",
   "execution_count": 172,
   "metadata": {},
   "outputs": [],
   "source": [
    "new_df= new_df[new_df.label != 'NONE']"
   ]
  },
  {
   "cell_type": "code",
   "execution_count": 173,
   "metadata": {},
   "outputs": [
    {
     "data": {
      "text/plain": [
       "DISASTER_        12671\n",
       "NON DISASTER_     6587\n",
       "Name: label, dtype: int64"
      ]
     },
     "execution_count": 173,
     "metadata": {},
     "output_type": "execute_result"
    }
   ],
   "source": [
    "new_df.label.value_counts()"
   ]
  },
  {
   "cell_type": "code",
   "execution_count": 174,
   "metadata": {},
   "outputs": [
    {
     "data": {
      "text/html": [
       "<div>\n",
       "<style scoped>\n",
       "    .dataframe tbody tr th:only-of-type {\n",
       "        vertical-align: middle;\n",
       "    }\n",
       "\n",
       "    .dataframe tbody tr th {\n",
       "        vertical-align: top;\n",
       "    }\n",
       "\n",
       "    .dataframe thead th {\n",
       "        text-align: right;\n",
       "    }\n",
       "</style>\n",
       "<table border=\"1\" class=\"dataframe\">\n",
       "  <thead>\n",
       "    <tr style=\"text-align: right;\">\n",
       "      <th></th>\n",
       "      <th>text</th>\n",
       "      <th>label</th>\n",
       "    </tr>\n",
       "  </thead>\n",
       "  <tbody>\n",
       "    <tr>\n",
       "      <th>9651</th>\n",
       "      <td>Worried grandson saves grandparents from Calif...</td>\n",
       "      <td>DISASTER_</td>\n",
       "    </tr>\n",
       "    <tr>\n",
       "      <th>4090</th>\n",
       "      <td>Four injured in gas blast in Ramachandrapuram</td>\n",
       "      <td>DISASTER_</td>\n",
       "    </tr>\n",
       "    <tr>\n",
       "      <th>8569</th>\n",
       "      <td>UPDATE 1-Tropical storm Harvey heads for Texas...</td>\n",
       "      <td>DISASTER_</td>\n",
       "    </tr>\n",
       "    <tr>\n",
       "      <th>744</th>\n",
       "      <td>One of Russia's richest women dies in plane cr...</td>\n",
       "      <td>DISASTER_</td>\n",
       "    </tr>\n",
       "    <tr>\n",
       "      <th>12590</th>\n",
       "      <td>Blue Jackets turn Bolts into 'five alarm fire'</td>\n",
       "      <td>NON DISASTER_</td>\n",
       "    </tr>\n",
       "    <tr>\n",
       "      <th>3143</th>\n",
       "      <td>Many Easter baskets filled with sanitizers and...</td>\n",
       "      <td>DISASTER_</td>\n",
       "    </tr>\n",
       "    <tr>\n",
       "      <th>13728</th>\n",
       "      <td>Cleveland Cavaliers appear to be frontrunner t...</td>\n",
       "      <td>NON DISASTER_</td>\n",
       "    </tr>\n",
       "    <tr>\n",
       "      <th>993</th>\n",
       "      <td>Nepal changes Everest route after avalanche th...</td>\n",
       "      <td>DISASTER_</td>\n",
       "    </tr>\n",
       "    <tr>\n",
       "      <th>7501</th>\n",
       "      <td>Road Accident Fund gets temporary relief</td>\n",
       "      <td>DISASTER_</td>\n",
       "    </tr>\n",
       "    <tr>\n",
       "      <th>598</th>\n",
       "      <td>Fatal plane crash missed homes 'only by the gr...</td>\n",
       "      <td>DISASTER_</td>\n",
       "    </tr>\n",
       "  </tbody>\n",
       "</table>\n",
       "</div>"
      ],
      "text/plain": [
       "                                                    text          label\n",
       "9651   Worried grandson saves grandparents from Calif...      DISASTER_\n",
       "4090       Four injured in gas blast in Ramachandrapuram      DISASTER_\n",
       "8569   UPDATE 1-Tropical storm Harvey heads for Texas...      DISASTER_\n",
       "744    One of Russia's richest women dies in plane cr...      DISASTER_\n",
       "12590     Blue Jackets turn Bolts into 'five alarm fire'  NON DISASTER_\n",
       "3143   Many Easter baskets filled with sanitizers and...      DISASTER_\n",
       "13728  Cleveland Cavaliers appear to be frontrunner t...  NON DISASTER_\n",
       "993    Nepal changes Everest route after avalanche th...      DISASTER_\n",
       "7501            Road Accident Fund gets temporary relief      DISASTER_\n",
       "598    Fatal plane crash missed homes 'only by the gr...      DISASTER_"
      ]
     },
     "execution_count": 174,
     "metadata": {},
     "output_type": "execute_result"
    }
   ],
   "source": [
    "new_df = new_df.drop(['category'],axis=1)\n",
    "new_df.sample(10)"
   ]
  },
  {
   "cell_type": "code",
   "execution_count": 175,
   "metadata": {},
   "outputs": [
    {
     "data": {
      "text/html": [
       "<div>\n",
       "<style scoped>\n",
       "    .dataframe tbody tr th:only-of-type {\n",
       "        vertical-align: middle;\n",
       "    }\n",
       "\n",
       "    .dataframe tbody tr th {\n",
       "        vertical-align: top;\n",
       "    }\n",
       "\n",
       "    .dataframe thead th {\n",
       "        text-align: right;\n",
       "    }\n",
       "</style>\n",
       "<table border=\"1\" class=\"dataframe\">\n",
       "  <thead>\n",
       "    <tr style=\"text-align: right;\">\n",
       "      <th></th>\n",
       "      <th>title</th>\n",
       "      <th>label</th>\n",
       "    </tr>\n",
       "  </thead>\n",
       "  <tbody>\n",
       "    <tr>\n",
       "      <th>18883</th>\n",
       "      <td>Wildfires Destroy Over 9,000 Acres of Land in ...</td>\n",
       "      <td>DISASTER_</td>\n",
       "    </tr>\n",
       "    <tr>\n",
       "      <th>17724</th>\n",
       "      <td>Health Care Workers Will Most Likely be the So...</td>\n",
       "      <td>DISASTER_</td>\n",
       "    </tr>\n",
       "    <tr>\n",
       "      <th>6168</th>\n",
       "      <td>A note about the reported 108 people missing a...</td>\n",
       "      <td>DISASTER_</td>\n",
       "    </tr>\n",
       "    <tr>\n",
       "      <th>19514</th>\n",
       "      <td>Wal-Mart makes gains in cutthroat grocery sector</td>\n",
       "      <td>NON DISASTER_</td>\n",
       "    </tr>\n",
       "    <tr>\n",
       "      <th>17854</th>\n",
       "      <td>Yet another strong earthquake strikes Chile</td>\n",
       "      <td>DISASTER_</td>\n",
       "    </tr>\n",
       "    <tr>\n",
       "      <th>17474</th>\n",
       "      <td>Extreme fire danger forces rare shutdown of na...</td>\n",
       "      <td>DISASTER_</td>\n",
       "    </tr>\n",
       "    <tr>\n",
       "      <th>13348</th>\n",
       "      <td>Brazil star Fred credits new mustache for help...</td>\n",
       "      <td>NON DISASTER_</td>\n",
       "    </tr>\n",
       "    <tr>\n",
       "      <th>1915</th>\n",
       "      <td>Drought concessional loan scheme to be re-open...</td>\n",
       "      <td>DISASTER_</td>\n",
       "    </tr>\n",
       "    <tr>\n",
       "      <th>118</th>\n",
       "      <td>European Leaders Express Condolences to Famili...</td>\n",
       "      <td>DISASTER_</td>\n",
       "    </tr>\n",
       "    <tr>\n",
       "      <th>200</th>\n",
       "      <td>Passenger plane skids off runway in Tabiz airport</td>\n",
       "      <td>DISASTER_</td>\n",
       "    </tr>\n",
       "  </tbody>\n",
       "</table>\n",
       "</div>"
      ],
      "text/plain": [
       "                                                   title          label\n",
       "18883  Wildfires Destroy Over 9,000 Acres of Land in ...      DISASTER_\n",
       "17724  Health Care Workers Will Most Likely be the So...      DISASTER_\n",
       "6168   A note about the reported 108 people missing a...      DISASTER_\n",
       "19514   Wal-Mart makes gains in cutthroat grocery sector  NON DISASTER_\n",
       "17854        Yet another strong earthquake strikes Chile      DISASTER_\n",
       "17474  Extreme fire danger forces rare shutdown of na...      DISASTER_\n",
       "13348  Brazil star Fred credits new mustache for help...  NON DISASTER_\n",
       "1915   Drought concessional loan scheme to be re-open...      DISASTER_\n",
       "118    European Leaders Express Condolences to Famili...      DISASTER_\n",
       "200    Passenger plane skids off runway in Tabiz airport      DISASTER_"
      ]
     },
     "execution_count": 175,
     "metadata": {},
     "output_type": "execute_result"
    }
   ],
   "source": [
    "new_df.columns = ['title','label']\n",
    "new_df.sample(10)"
   ]
  },
  {
   "cell_type": "code",
   "execution_count": 176,
   "metadata": {},
   "outputs": [],
   "source": [
    "df = df[df.label != 'DISASTER_']"
   ]
  },
  {
   "cell_type": "code",
   "execution_count": 177,
   "metadata": {},
   "outputs": [
    {
     "data": {
      "text/html": [
       "<div>\n",
       "<style scoped>\n",
       "    .dataframe tbody tr th:only-of-type {\n",
       "        vertical-align: middle;\n",
       "    }\n",
       "\n",
       "    .dataframe tbody tr th {\n",
       "        vertical-align: top;\n",
       "    }\n",
       "\n",
       "    .dataframe thead th {\n",
       "        text-align: right;\n",
       "    }\n",
       "</style>\n",
       "<table border=\"1\" class=\"dataframe\">\n",
       "  <thead>\n",
       "    <tr style=\"text-align: right;\">\n",
       "      <th></th>\n",
       "      <th>title</th>\n",
       "      <th>label</th>\n",
       "    </tr>\n",
       "  </thead>\n",
       "  <tbody>\n",
       "    <tr>\n",
       "      <th>331922</th>\n",
       "      <td>Walking to Petra: 7 Pillars of Beauty</td>\n",
       "      <td>NON DISASTER_</td>\n",
       "    </tr>\n",
       "    <tr>\n",
       "      <th>392451</th>\n",
       "      <td>Sleeping With the Band: Fitz and the Tantrums</td>\n",
       "      <td>NON DISASTER_</td>\n",
       "    </tr>\n",
       "    <tr>\n",
       "      <th>303627</th>\n",
       "      <td>Get Ready For The Ultimate 'Golden Girls' Fan ...</td>\n",
       "      <td>NON DISASTER_</td>\n",
       "    </tr>\n",
       "    <tr>\n",
       "      <th>313993</th>\n",
       "      <td>How One Woman Is Convincing Fellow Moms Their ...</td>\n",
       "      <td>NON DISASTER_</td>\n",
       "    </tr>\n",
       "    <tr>\n",
       "      <th>411046</th>\n",
       "      <td>We Love Maple Syrup This Much (PHOTOS)</td>\n",
       "      <td>NON DISASTER_</td>\n",
       "    </tr>\n",
       "    <tr>\n",
       "      <th>267513</th>\n",
       "      <td>Naomi Klein Is Writing An Anti-Trump Manifesto...</td>\n",
       "      <td>NON DISASTER_</td>\n",
       "    </tr>\n",
       "    <tr>\n",
       "      <th>261746</th>\n",
       "      <td>Feds Seek 4½ Years In Prison For D.C. 'Pizzaga...</td>\n",
       "      <td>NON DISASTER_</td>\n",
       "    </tr>\n",
       "    <tr>\n",
       "      <th>313461</th>\n",
       "      <td>Bernie Sanders Joins Verizon Picket Line</td>\n",
       "      <td>NON DISASTER_</td>\n",
       "    </tr>\n",
       "    <tr>\n",
       "      <th>351218</th>\n",
       "      <td>The Continuing Problems with Lethal Injection</td>\n",
       "      <td>NON DISASTER_</td>\n",
       "    </tr>\n",
       "    <tr>\n",
       "      <th>309282</th>\n",
       "      <td>Playing the Trump Card</td>\n",
       "      <td>NON DISASTER_</td>\n",
       "    </tr>\n",
       "  </tbody>\n",
       "</table>\n",
       "</div>"
      ],
      "text/plain": [
       "                                                    title          label\n",
       "331922              Walking to Petra: 7 Pillars of Beauty  NON DISASTER_\n",
       "392451      Sleeping With the Band: Fitz and the Tantrums  NON DISASTER_\n",
       "303627  Get Ready For The Ultimate 'Golden Girls' Fan ...  NON DISASTER_\n",
       "313993  How One Woman Is Convincing Fellow Moms Their ...  NON DISASTER_\n",
       "411046             We Love Maple Syrup This Much (PHOTOS)  NON DISASTER_\n",
       "267513  Naomi Klein Is Writing An Anti-Trump Manifesto...  NON DISASTER_\n",
       "261746  Feds Seek 4½ Years In Prison For D.C. 'Pizzaga...  NON DISASTER_\n",
       "313461           Bernie Sanders Joins Verizon Picket Line  NON DISASTER_\n",
       "351218      The Continuing Problems with Lethal Injection  NON DISASTER_\n",
       "309282                             Playing the Trump Card  NON DISASTER_"
      ]
     },
     "execution_count": 177,
     "metadata": {},
     "output_type": "execute_result"
    }
   ],
   "source": [
    "df.sample(10)"
   ]
  },
  {
   "cell_type": "code",
   "execution_count": 178,
   "metadata": {},
   "outputs": [
    {
     "data": {
      "text/plain": [
       "19258"
      ]
     },
     "execution_count": 178,
     "metadata": {},
     "output_type": "execute_result"
    }
   ],
   "source": [
    "len(new_df)"
   ]
  },
  {
   "cell_type": "code",
   "execution_count": 179,
   "metadata": {},
   "outputs": [
    {
     "data": {
      "text/plain": [
       "194397"
      ]
     },
     "execution_count": 179,
     "metadata": {},
     "output_type": "execute_result"
    }
   ],
   "source": [
    "len(df)"
   ]
  },
  {
   "cell_type": "code",
   "execution_count": 180,
   "metadata": {},
   "outputs": [
    {
     "data": {
      "text/plain": [
       "DISASTER_        12671\n",
       "NON DISASTER_     6587\n",
       "Name: label, dtype: int64"
      ]
     },
     "execution_count": 180,
     "metadata": {},
     "output_type": "execute_result"
    }
   ],
   "source": [
    "new_df.label.value_counts()"
   ]
  },
  {
   "cell_type": "code",
   "execution_count": 181,
   "metadata": {},
   "outputs": [
    {
     "data": {
      "text/plain": [
       "NON DISASTER_    194397\n",
       "Name: label, dtype: int64"
      ]
     },
     "execution_count": 181,
     "metadata": {},
     "output_type": "execute_result"
    }
   ],
   "source": [
    "df.label.value_counts()"
   ]
  },
  {
   "cell_type": "code",
   "execution_count": 182,
   "metadata": {},
   "outputs": [],
   "source": [
    "dff = df.sample(18755)"
   ]
  },
  {
   "cell_type": "code",
   "execution_count": 183,
   "metadata": {},
   "outputs": [
    {
     "data": {
      "text/plain": [
       "NON DISASTER_    18755\n",
       "Name: label, dtype: int64"
      ]
     },
     "execution_count": 183,
     "metadata": {},
     "output_type": "execute_result"
    }
   ],
   "source": [
    "dff.label.value_counts()"
   ]
  },
  {
   "cell_type": "code",
   "execution_count": 184,
   "metadata": {},
   "outputs": [],
   "source": [
    "all_df = pd.concat([new_df,dff])"
   ]
  },
  {
   "cell_type": "code",
   "execution_count": 185,
   "metadata": {},
   "outputs": [
    {
     "data": {
      "text/plain": [
       "NON DISASTER_    25342\n",
       "DISASTER_        12671\n",
       "Name: label, dtype: int64"
      ]
     },
     "execution_count": 185,
     "metadata": {},
     "output_type": "execute_result"
    }
   ],
   "source": [
    "all_df.label.value_counts()"
   ]
  },
  {
   "cell_type": "code",
   "execution_count": 186,
   "metadata": {},
   "outputs": [
    {
     "data": {
      "text/html": [
       "<div>\n",
       "<style scoped>\n",
       "    .dataframe tbody tr th:only-of-type {\n",
       "        vertical-align: middle;\n",
       "    }\n",
       "\n",
       "    .dataframe tbody tr th {\n",
       "        vertical-align: top;\n",
       "    }\n",
       "\n",
       "    .dataframe thead th {\n",
       "        text-align: right;\n",
       "    }\n",
       "</style>\n",
       "<table border=\"1\" class=\"dataframe\">\n",
       "  <thead>\n",
       "    <tr style=\"text-align: right;\">\n",
       "      <th></th>\n",
       "      <th>title</th>\n",
       "      <th>label</th>\n",
       "    </tr>\n",
       "  </thead>\n",
       "  <tbody>\n",
       "    <tr>\n",
       "      <th>277463</th>\n",
       "      <td>It Seems Like Carly Fiorina Really, Really Wan...</td>\n",
       "      <td>NON DISASTER_</td>\n",
       "    </tr>\n",
       "    <tr>\n",
       "      <th>413580</th>\n",
       "      <td>How To Deal With Summer Travel Debt</td>\n",
       "      <td>NON DISASTER_</td>\n",
       "    </tr>\n",
       "    <tr>\n",
       "      <th>17328</th>\n",
       "      <td>Hopes fade for 5 soldiers missing after heavy ...</td>\n",
       "      <td>DISASTER_</td>\n",
       "    </tr>\n",
       "    <tr>\n",
       "      <th>263840</th>\n",
       "      <td>Leaving Money On The Table, And Dividing Ameri...</td>\n",
       "      <td>NON DISASTER_</td>\n",
       "    </tr>\n",
       "    <tr>\n",
       "      <th>13678</th>\n",
       "      <td>Mum warns women not to keep phones in their br...</td>\n",
       "      <td>NON DISASTER_</td>\n",
       "    </tr>\n",
       "    <tr>\n",
       "      <th>...</th>\n",
       "      <td>...</td>\n",
       "      <td>...</td>\n",
       "    </tr>\n",
       "    <tr>\n",
       "      <th>393182</th>\n",
       "      <td>Koch Brothers Set Their Sights On Controlling ...</td>\n",
       "      <td>NON DISASTER_</td>\n",
       "    </tr>\n",
       "    <tr>\n",
       "      <th>5114</th>\n",
       "      <td>Welsh environment secretary warns of more floo...</td>\n",
       "      <td>DISASTER_</td>\n",
       "    </tr>\n",
       "    <tr>\n",
       "      <th>333672</th>\n",
       "      <td>REPORT: City Of Cleveland Says Tamir Rice's De...</td>\n",
       "      <td>NON DISASTER_</td>\n",
       "    </tr>\n",
       "    <tr>\n",
       "      <th>394053</th>\n",
       "      <td>Brooklyn Brewery Mash Stop Motion Video Takes ...</td>\n",
       "      <td>NON DISASTER_</td>\n",
       "    </tr>\n",
       "    <tr>\n",
       "      <th>2286</th>\n",
       "      <td>Facebook 'Safety Check' Used for Chile Quake</td>\n",
       "      <td>DISASTER_</td>\n",
       "    </tr>\n",
       "  </tbody>\n",
       "</table>\n",
       "<p>100 rows × 2 columns</p>\n",
       "</div>"
      ],
      "text/plain": [
       "                                                    title          label\n",
       "277463  It Seems Like Carly Fiorina Really, Really Wan...  NON DISASTER_\n",
       "413580                How To Deal With Summer Travel Debt  NON DISASTER_\n",
       "17328   Hopes fade for 5 soldiers missing after heavy ...      DISASTER_\n",
       "263840  Leaving Money On The Table, And Dividing Ameri...  NON DISASTER_\n",
       "13678   Mum warns women not to keep phones in their br...  NON DISASTER_\n",
       "...                                                   ...            ...\n",
       "393182  Koch Brothers Set Their Sights On Controlling ...  NON DISASTER_\n",
       "5114    Welsh environment secretary warns of more floo...      DISASTER_\n",
       "333672  REPORT: City Of Cleveland Says Tamir Rice's De...  NON DISASTER_\n",
       "394053  Brooklyn Brewery Mash Stop Motion Video Takes ...  NON DISASTER_\n",
       "2286         Facebook 'Safety Check' Used for Chile Quake      DISASTER_\n",
       "\n",
       "[100 rows x 2 columns]"
      ]
     },
     "execution_count": 186,
     "metadata": {},
     "output_type": "execute_result"
    }
   ],
   "source": [
    "all_df.sample(100)"
   ]
  },
  {
   "cell_type": "code",
   "execution_count": 187,
   "metadata": {},
   "outputs": [],
   "source": [
    "all_df.sample(100).to_csv('updated.csv',index=False)"
   ]
  },
  {
   "cell_type": "code",
   "execution_count": 189,
   "metadata": {},
   "outputs": [
    {
     "data": {
      "text/html": [
       "<div>\n",
       "<style scoped>\n",
       "    .dataframe tbody tr th:only-of-type {\n",
       "        vertical-align: middle;\n",
       "    }\n",
       "\n",
       "    .dataframe tbody tr th {\n",
       "        vertical-align: top;\n",
       "    }\n",
       "\n",
       "    .dataframe thead th {\n",
       "        text-align: right;\n",
       "    }\n",
       "</style>\n",
       "<table border=\"1\" class=\"dataframe\">\n",
       "  <thead>\n",
       "    <tr style=\"text-align: right;\">\n",
       "      <th></th>\n",
       "      <th>title</th>\n",
       "      <th>label</th>\n",
       "    </tr>\n",
       "  </thead>\n",
       "  <tbody>\n",
       "    <tr>\n",
       "      <th>0</th>\n",
       "      <td>Pilot, skydivers survive fiery crash in Phoeni...</td>\n",
       "      <td>DISASTER_</td>\n",
       "    </tr>\n",
       "    <tr>\n",
       "      <th>1</th>\n",
       "      <td>Officials: Pilot dead in small plane crash in ...</td>\n",
       "      <td>DISASTER_</td>\n",
       "    </tr>\n",
       "    <tr>\n",
       "      <th>2</th>\n",
       "      <td>Brother identifies Rye man as pilot killed in ...</td>\n",
       "      <td>DISASTER_</td>\n",
       "    </tr>\n",
       "    <tr>\n",
       "      <th>3</th>\n",
       "      <td>Brother identifies Rye man as pilot killed in ...</td>\n",
       "      <td>DISASTER_</td>\n",
       "    </tr>\n",
       "    <tr>\n",
       "      <th>4</th>\n",
       "      <td>Chapecoense Team Plane Crash Kills Most Soccer...</td>\n",
       "      <td>DISASTER_</td>\n",
       "    </tr>\n",
       "    <tr>\n",
       "      <th>...</th>\n",
       "      <td>...</td>\n",
       "      <td>...</td>\n",
       "    </tr>\n",
       "    <tr>\n",
       "      <th>254836</th>\n",
       "      <td>The Importance Of A Pap And HPV Test Combination</td>\n",
       "      <td>NON DISASTER_</td>\n",
       "    </tr>\n",
       "    <tr>\n",
       "      <th>415294</th>\n",
       "      <td>FEARLESS MEMOIR: 'World's Fair' (Chapter 10)</td>\n",
       "      <td>NON DISASTER_</td>\n",
       "    </tr>\n",
       "    <tr>\n",
       "      <th>346447</th>\n",
       "      <td>Dashcam Catches Kids Dancing Like Dorks, And I...</td>\n",
       "      <td>NON DISASTER_</td>\n",
       "    </tr>\n",
       "    <tr>\n",
       "      <th>247545</th>\n",
       "      <td>This Body Of Mine: A Lifetime Of Complicated B...</td>\n",
       "      <td>NON DISASTER_</td>\n",
       "    </tr>\n",
       "    <tr>\n",
       "      <th>341454</th>\n",
       "      <td>Ampere Puts Women First</td>\n",
       "      <td>NON DISASTER_</td>\n",
       "    </tr>\n",
       "  </tbody>\n",
       "</table>\n",
       "<p>38013 rows × 2 columns</p>\n",
       "</div>"
      ],
      "text/plain": [
       "                                                    title          label\n",
       "0       Pilot, skydivers survive fiery crash in Phoeni...      DISASTER_\n",
       "1       Officials: Pilot dead in small plane crash in ...      DISASTER_\n",
       "2       Brother identifies Rye man as pilot killed in ...      DISASTER_\n",
       "3       Brother identifies Rye man as pilot killed in ...      DISASTER_\n",
       "4       Chapecoense Team Plane Crash Kills Most Soccer...      DISASTER_\n",
       "...                                                   ...            ...\n",
       "254836   The Importance Of A Pap And HPV Test Combination  NON DISASTER_\n",
       "415294       FEARLESS MEMOIR: 'World's Fair' (Chapter 10)  NON DISASTER_\n",
       "346447  Dashcam Catches Kids Dancing Like Dorks, And I...  NON DISASTER_\n",
       "247545  This Body Of Mine: A Lifetime Of Complicated B...  NON DISASTER_\n",
       "341454                            Ampere Puts Women First  NON DISASTER_\n",
       "\n",
       "[38013 rows x 2 columns]"
      ]
     },
     "execution_count": 189,
     "metadata": {},
     "output_type": "execute_result"
    }
   ],
   "source": [
    "df = all_df\n",
    "df"
   ]
  },
  {
   "cell_type": "code",
   "execution_count": null,
   "metadata": {},
   "outputs": [],
   "source": []
  }
 ],
 "metadata": {
  "kernelspec": {
   "name": "Python 3.9.1 64-bit",
   "display_name": "Python 3.9.1 64-bit",
   "metadata": {
    "interpreter": {
     "hash": "767d51c1340bd893661ea55ea3124f6de3c7a262a8b4abca0554b478b1e2ff90"
    }
   }
  },
  "language_info": {
   "codemirror_mode": {
    "name": "ipython",
    "version": 3
   },
   "file_extension": ".py",
   "mimetype": "text/x-python",
   "name": "python",
   "nbconvert_exporter": "python",
   "pygments_lexer": "ipython3",
   "version": "3.9.1-final"
  }
 },
 "nbformat": 4,
 "nbformat_minor": 4
}